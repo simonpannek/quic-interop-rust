{
 "cells": [
  {
   "cell_type": "markdown",
   "metadata": {
    "collapsed": false,
    "scrolled": false,
    "editable": false
   },
   "source": [
    "<div style=\"background-color:rgba(100, 160, 200, 0.33);\">\n",
    "\n",
    "<h1>Tutorial 5 - Network Calculus and Autonomous Systems</h1>\n",
    "\n",
    "<p>\n",
    "Submission process:\n",
    "</p>\n",
    "<ul>\n",
    "<li>Submission deadline is February 02, 14:00 CET (before the lecture) .</li>\n",
    "<li>Commit and push your solution as single notebook file via git as <span style=\"font-family: monospace\">./tutorial/tutorial5/tutorial5.ipynb</span>. Please take care of the correct subfolder/filename since submission is denied otherwise.</li>\n",
    "<li>During the first lecture after the deadline we will discuss a sample solution in class.</li>\n",
    "<li>Afterwards, you have time until February 09, 14:00 CET (before the lecture) to submit a corrected version of your submission:</li>\n",
    "<ol>\n",
    "  <li>Rework your solution according to our discussion in class.</li>\n",
    "  <li>Commit and push the corrected version as single file via git as <span style=\"font-family: monospace\">./tutorial/tutorial5/tutorial5.ipynb</span>. Please take care of the correct filename since submission is denied otherwise.</li>\n",
    "</ol>\n",
    "</ul>\n",
    "\n",
    "<p>\n",
    "Remarks:\n",
    "</p>\n",
    "<ul>\n",
    "<li>Grading is done based on both versions of your submission.</li>\n",
    "<li>If the first submission is missing your submission will not be graded.</li>\n",
    "<li>If the second submission contains major flaws after revision not more than half of the credits for this tutorial can be achieved.</li>\n",
    "<li>A sample solution is provided after February 09, 14:00 CET eventually.</li>\n",
    "<li>\n",
    "Please use <a href=\"mailto:acn@net.in.tum.de\">acn@net.in.tum.de</a> for questions regarding lecture, tutorial, and project of ACN.\n",
    "</li>\n",
    "</ul>\n",
    "</div>"
   ]
  },
  {
   "cell_type": "markdown",
   "metadata": {
    "collapsed": false,
    "scrolled": false,
    "editable": false
   },
   "source": [
    "<div style=\"background-color:rgba(100, 160, 200, 0.33);\">\n",
    "<h3>Problem 1: Network Calculus (5.5 credits)</h3>\n",
    "\n",
    "<p>\n",
    "We will apply Network Calculus to the small network represented below:\n",
    "</p>\n",
    "</div>"
   ]
  },
  {
   "attachments": {
    "tutorial_network_calculus_application.png": {
     "image/png": "[encoded data removed]"
    }
   },
   "cell_type": "markdown",
   "metadata": {
    "collapsed": false,
    "scrolled": false
   },
   "source": [
    "![tutorial_network_calculus_application.png](attachment:tutorial_network_calculus_application.png)"
   ]
  },
  {
   "cell_type": "markdown",
   "metadata": {
    "collapsed": false,
    "scrolled": false,
    "editable": false
   },
   "source": [
    "<div style=\"background-color:rgba(100, 160, 200, 0.33);\">\n",
    "<b>a) [0.25 credits]</b>\n",
    "Represent the curves $\\beta_{10,10}$ and $\\gamma_{5,25}$ in the same figure.\n",
    "</div>"
   ]
  },
  {
   "cell_type": "code",
   "execution_count": null,
   "metadata": {
    "collapsed": false,
    "scrolled": false
   },
   "outputs": [],
   "source": [
    "%matplotlib inline\n",
    "\n",
    "import numpy as np\n",
    "import matplotlib.pyplot as plt\n",
    "\n",
    "plt.figure(figsize=(5, 5))\n",
    "plt.xlabel(\"Time\")\n",
    "plt.ylabel(\"Data\")\n",
    "plt.axis((-1,20,0,100))\n",
    "\n",
    "# Use the following template:\n",
    "# plt.plot([...], [...], label=\"Arrival curve\")\n",
    "# plt.plot([...], [...], label=\"Service curve\")\n",
    "\n",
    "# begin insert code\n",
    "# end insert code\n",
    "\n",
    "plt.legend()\n",
    "plt.show()"
   ]
  },
  {
   "cell_type": "markdown",
   "metadata": {
    "collapsed": false,
    "scrolled": false,
    "editable": false
   },
   "source": [
    "<div style=\"background-color:rgba(100, 160, 200, 0.33);\">\n",
    "<b>b) [0.25 credits]</b>\n",
    "Represent the backlog and the delay bounds in the figure.\n",
    "</div>"
   ]
  },
  {
   "cell_type": "code",
   "execution_count": null,
   "metadata": {
    "collapsed": false,
    "scrolled": false
   },
   "outputs": [],
   "source": [
    "%matplotlib inline\n",
    "\n",
    "import numpy as np\n",
    "import matplotlib.pyplot as plt\n",
    "\n",
    "plt.figure(figsize=(5, 5))\n",
    "plt.xlabel(\"Time\")\n",
    "plt.ylabel(\"Data\")\n",
    "plt.axis((-1,20,0,100))\n",
    "\n",
    "# Use the following template:\n",
    "# plt.plot([...], [...], label=\"Arrival curve\")\n",
    "# plt.plot([...], [...], label=\"Service curve\")\n",
    "# plt.plot([...], [...], label=\"Delay bound\")\n",
    "# plt.plot([...], [...], label=\"Buffer bound\")\n",
    "\n",
    "# begin insert code\n",
    "# end insert code\n",
    "\n",
    "plt.legend()\n",
    "plt.show()"
   ]
  },
  {
   "cell_type": "markdown",
   "metadata": {
    "collapsed": false,
    "scrolled": false,
    "editable": false
   },
   "source": [
    "<div style=\"background-color:rgba(100, 160, 200, 0.33);\">\n",
    "<p>\n",
    "<b>c) [0.5 credits]</b>\n",
    "What is the latency/delay bound of the flow after S1?\n",
    "</p>\n",
    "</div>"
   ]
  },
  {
   "cell_type": "markdown",
   "metadata": {
    "collapsed": false,
    "scrolled": false
   },
   "source": []
  },
  {
   "cell_type": "markdown",
   "metadata": {
    "collapsed": false,
    "scrolled": false,
    "editable": false
   },
   "source": [
    "<div style=\"background-color:rgba(100, 160, 200, 0.33);\">\n",
    "<p>\n",
    "<b>d) [0.5 credits]</b>\n",
    "What is the arrival curve of the flow after it has traversed the server S1?\n",
    "</p>\n",
    "</div>"
   ]
  },
  {
   "cell_type": "markdown",
   "metadata": {
    "collapsed": false,
    "scrolled": false
   },
   "source": []
  },
  {
   "cell_type": "markdown",
   "metadata": {
    "collapsed": false,
    "scrolled": false,
    "editable": false
   },
   "source": [
    "<div style=\"background-color:rgba(100, 160, 200, 0.33);\">\n",
    "<p>\n",
    "Consider the following larger network with multiple flows. We are interested in computing the latency/delay bound for flow $f_1$.\n",
    "    \n",
    "Assume all servers use strict priority queuing as scheduling algorithm.\n",
    "Assume that $f_1$ has the lowest priority while $f_2$ and $f_3$ have the highest priority.\n",
    "Furthermore, assume that the scheduling is preemptive.\n",
    "</p></div>"
   ]
  },
  {
   "attachments": {
    "topo-formula.png": {
     "image/png": "[encoded data removed]"
    }
   },
   "cell_type": "markdown",
   "metadata": {
    "collapsed": false,
    "scrolled": false
   },
   "source": [
    "![topo-formula.png](attachment:topo-formula.png)"
   ]
  },
  {
   "cell_type": "markdown",
   "metadata": {
    "collapsed": false,
    "scrolled": false,
    "editable": false
   },
   "source": [
    "<div style=\"background-color:rgba(100, 160, 200, 0.33);\">\n",
    "<p>\n",
    "<b>e) [0.5 credits]</b>\n",
    "Expain the difference between preemptive and non-preemptive scheduling.\n",
    "</p>\n",
    "</div>"
   ]
  },
  {
   "cell_type": "markdown",
   "metadata": {
    "collapsed": false,
    "scrolled": false
   },
   "source": []
  },
  {
   "cell_type": "markdown",
   "metadata": {
    "collapsed": false,
    "scrolled": false,
    "editable": false
   },
   "source": [
    "<div style=\"background-color:rgba(100, 160, 200, 0.33);\">\n",
    "<p>\n",
    "<b>f) [2.5 credits]</b>\n",
    "Use the three steps of the Separate Flow Analysis to calculate the latency/delay bound for $f_1$. <b>Clearly</b> differentiate between the three steps in your answer.\n",
    "\n",
    "</p>\n",
    "</div>"
   ]
  },
  {
   "cell_type": "markdown",
   "metadata": {
    "collapsed": false,
    "scrolled": false
   },
   "source": []
  },
  {
   "cell_type": "markdown",
   "metadata": {
    "collapsed": false,
    "scrolled": false,
    "editable": false
   },
   "source": [
    "<div style=\"background-color:rgba(100, 160, 200, 0.33);\">\n",
    "<p>\n",
    "<b>g) [0.5 credits]</b>\n",
    "Assume that the priorities of the flows are switched (i.e. $f_1$ is the highest priority and $f_2$ and $f_3$ are the lowest priority).\n",
    "Use the Separate Flow Analysis to calculate the latency/delay bound of $f_1$ traversing the network.\n",
    "</p>\n",
    "</div>"
   ]
  },
  {
   "cell_type": "markdown",
   "metadata": {
    "collapsed": false,
    "scrolled": false
   },
   "source": []
  },
  {
   "cell_type": "markdown",
   "metadata": {
    "collapsed": false,
    "scrolled": false,
    "editable": false
   },
   "source": [
    "<div style=\"background-color:rgba(100, 160, 200, 0.33);\">\n",
    "<p>\n",
    "<b>h) [0.5 credits]</b>\n",
    "Assume a flow with an arrival curve $\\gamma_{10,5}$ traverses a server with a service curve $\\beta_{7,3}$. Give an explanation why the latency/delay bound is infinity.\n",
    "</p>\n",
    "</div>"
   ]
  },
  {
   "cell_type": "markdown",
   "metadata": {
    "collapsed": false,
    "scrolled": false
   },
   "source": []
  },
  {
   "cell_type": "markdown",
   "metadata": {
    "collapsed": false,
    "scrolled": false,
    "editable": false
   },
   "source": [
    "<div style=\"background-color:rgba(100, 160, 200, 0.33);\">\n",
    "<h3>Problem 2 Autonomous Systems (7.5 credit)</h3>\n",
    "\n",
    "<p>\n",
    "Consider the following AS topology. \n",
    "The lines in the following graph show the AS relationships:\n",
    "<ul>\n",
    "<li>A line with a single arrow symbolizes a consumer provider relationship with the arrow end marking the provider, e.g. AS 63 provides connectivity to other ASes for AS 60.</li>\n",
    "<li>A line with two arrows symbolizes a peering relationship with both ASes exchanging traffic for free, e.g. AS 92 and AS 85 exchange their traffic.</li>\n",
    "</ul>\n",
    "</p>\n",
    "\n",
    "<p>\n",
    "For this exercise, the <a href=\"https://networkx.github.io/documentation/stable/index.html\">NetworkX</a> library is used.\n",
    "Execute the following cell to install the required packages.\n",
    "</p>\n",
    "\n",
    "</div>"
   ]
  },
  {
   "cell_type": "code",
   "execution_count": null,
   "metadata": {
    "collapsed": false,
    "scrolled": false
   },
   "outputs": [],
   "source": [
    "# only needs to be executed once\n",
    "!pip3 install networkx==2.6.3"
   ]
  },
  {
   "cell_type": "code",
   "execution_count": null,
   "metadata": {
    "collapsed": false,
    "scrolled": false
   },
   "outputs": [],
   "source": [
    "%matplotlib inline\n",
    "\n",
    "import networkx as nx\n",
    "import matplotlib.pyplot as plt\n",
    "\n",
    "\n",
    "edges = [\n",
    "         # (src, dst, weight)\n",
    "         ('as7', 'as92', 1),\n",
    "         ('as70', 'as85', 1),\n",
    "         ('as60', 'as63', 1),\n",
    "         ('as60', 'as20', 1),\n",
    "         ('as91', 'as20', 1),\n",
    "         ('as85', 'as63', 1),\n",
    "         ('as63', 'as85', 1),\n",
    "         ('as20', 'as63', 1),\n",
    "         ('as63', 'as20', 1),\n",
    "         ('as70', 'as85', 1),\n",
    "         ('as92', 'as85', 1),\n",
    "         ('as85', 'as92', 1),\n",
    "         ('as85', 'as99', 1),\n",
    "         ('as63', 'as99', 1),\n",
    "         ('as99', 'as35', 1),\n",
    "         ('as35', 'as99', 1),\n",
    "         ('as63', 'as35', 1),\n",
    "         ('as20', 'as35', 1),\n",
    "         ('as60', 'as91', 1),\n",
    "         ('as91', 'as60', 1)\n",
    "        ]\n",
    "\n",
    "\n",
    "ases = {\n",
    "    # 'name':(posX, posY)\n",
    "    'as7':(0,0),\n",
    "    'as70':(20,0),\n",
    "    'as60':(40,0),\n",
    "    'as91':(60,0),\n",
    "    'as92':(-10,20),\n",
    "    'as85':(10,20),\n",
    "    'as63':(30,20),\n",
    "    'as20':(50,20),\n",
    "    'as99':(20,40),\n",
    "    'as35':(40,40)\n",
    "}\n",
    "\n",
    "def plotNetwork(graph):\n",
    "    # set plot size\n",
    "    plt.figure(3,figsize=(14,8))\n",
    "\n",
    "    # draw graph  \n",
    "    nodz = {k:ases[k] for k in ases if k in graph.nodes()}\n",
    "    nx.draw_networkx_nodes(graph, pos=nodz, nodelist=nodz.keys(), node_color = 'lightblue', node_size=1500)\n",
    "    nx.draw_networkx_edges(graph, pos=nodz, nodelist = [], edgelist = graph.edges(), node_size=1500)\n",
    "    nx.draw_networkx_labels(graph, pos=nodz)\n",
    "    \n",
    "    # remove axis and plot\n",
    "    plt.axis('off')\n",
    "    plt.show()\n",
    "\n",
    "# create graph\n",
    "G = nx.DiGraph()\n",
    "G.add_weighted_edges_from(edges)\n",
    "    \n",
    "# draw network\n",
    "plotNetwork(G)"
   ]
  },
  {
   "cell_type": "markdown",
   "metadata": {
    "collapsed": false,
    "scrolled": false,
    "editable": false
   },
   "source": [
    "<div style=\"background-color:rgba(100, 160, 200, 0.33);\">\n",
    "<p>\n",
    "<b>a) [1 credits]</b> Program a function which takes a unidirectional NetworkX graph and removes all nodes of the given or smaller degree recursively. \n",
    "Have a look at the <a href=\"https://networkx.github.io/documentation/networkx-2.0/reference/functions.html#graph\">function reference</a> of NetworkX before starting the exercise.\n",
    "Do <b>not</b> use the kcore algorithm already integrated in NetworkX.\n",
    "</p>\n",
    "</div>"
   ]
  },
  {
   "cell_type": "code",
   "execution_count": null,
   "metadata": {
    "collapsed": false,
    "scrolled": false
   },
   "outputs": [],
   "source": [
    "def remove_nodes_of_degree(unigraph, degree):\n",
    "    # begin insert code  \n",
    "    # end insert code\n",
    "    return unigraph\n",
    "\n",
    "# convert to unidirectional graph to simplify kcore\n",
    "unigraph = G.to_undirected().copy()\n",
    "\n",
    "one_degree_graph = remove_nodes_of_degree(unigraph, 1)\n",
    "\n",
    "# plot\n",
    "print(\"Resulting graph:\")\n",
    "plotNetwork(one_degree_graph)"
   ]
  },
  {
   "cell_type": "markdown",
   "metadata": {
    "collapsed": false,
    "scrolled": false,
    "editable": false
   },
   "source": [
    "<div style=\"background-color:rgba(100, 160, 200, 0.33);\">\n",
    "<p>\n",
    "<b>b) [0.5 credits]</b> Write your own function <span style=\"font-family: monospace\">perform_kcore()</span> which performs the kcore algorithm on a given unidirectional NetworkX graph. \n",
    "The function should return a graph representing the core of the given network.\n",
    "You may use functions available from previous subproblems.\n",
    "</p>\n",
    "\n",
    "<p>\n",
    "Have a look at the <a href=\"https://networkx.github.io/documentation/networkx-2.0/reference/functions.html#graph\">function reference</a> of NetworkX before starting the exercise.\n",
    "Do <b>not</b> use the kcore algorithm already integrated in NetworkX.\n",
    "</p>\n",
    "</div>"
   ]
  },
  {
   "cell_type": "code",
   "execution_count": null,
   "metadata": {
    "collapsed": false,
    "scrolled": false
   },
   "outputs": [],
   "source": [
    "def perform_kcore(graph):\n",
    "    # begin insert code\n",
    "    # end insert code\n",
    "    return graph\n",
    "    \n",
    "# convert to unidirectional graph to simplify kcore\n",
    "unigraph2 = G.to_undirected().copy()\n",
    "\n",
    "# plot\n",
    "plotNetwork(perform_kcore(unigraph2))"
   ]
  },
  {
   "cell_type": "markdown",
   "metadata": {
    "collapsed": false,
    "scrolled": false,
    "editable": false
   },
   "source": [
    "<div style=\"background-color:rgba(100, 160, 200, 0.33);\">\n",
    "<p>\n",
    "<b>c) [0.25 credits]</b>\n",
    "Increase the degree of the nodes in the core of the network for the given topology. \n",
    "You may add exactly one connection between two arbitrary ASes\n",
    "</p>\n",
    "</div>"
   ]
  },
  {
   "cell_type": "code",
   "execution_count": null,
   "metadata": {
    "collapsed": false,
    "scrolled": false
   },
   "outputs": [],
   "source": [
    "# convert to unidirectional graph to simplify kcore\n",
    "unigraph2 = G.to_undirected().copy()\n",
    "\n",
    "unigraph2.add_edge(\n",
    "    # e.g. :\n",
    "    # 'as1', 'as2'\n",
    "# begin insert code\n",
    "# end insert code\n",
    ")\n",
    "\n",
    "# plot\n",
    "plotNetwork(perform_kcore(unigraph2))"
   ]
  },
  {
   "cell_type": "markdown",
   "metadata": {
    "collapsed": false,
    "scrolled": false,
    "editable": false
   },
   "source": [
    "<div style=\"background-color:rgba(100, 160, 200, 0.33);\">\n",
    "<p>\n",
    "For the following subproblems only the original network topology is considered. \n",
    "<b>Not</b> the extended network with the additional edge.\n",
    "</p>\n",
    "</div>"
   ]
  },
  {
   "cell_type": "code",
   "execution_count": null,
   "metadata": {
    "collapsed": false,
    "scrolled": false
   },
   "outputs": [],
   "source": [
    "plotNetwork(G)"
   ]
  },
  {
   "cell_type": "markdown",
   "metadata": {
    "collapsed": false,
    "scrolled": false,
    "editable": false
   },
   "source": [
    "<div style=\"background-color:rgba(100, 160, 200, 0.33);\">\n",
    "<p>\n",
    "<b>d) [0.25 credits]</b> \n",
    "How can a transit agreement be trivially represented in the routing table of the client?\n",
    "</p>\n",
    "</div>"
   ]
  },
  {
   "cell_type": "markdown",
   "metadata": {
    "collapsed": false,
    "scrolled": false
   },
   "source": []
  },
  {
   "cell_type": "markdown",
   "metadata": {
    "collapsed": false,
    "scrolled": false,
    "editable": false
   },
   "source": [
    "<div style=\"background-color:rgba(100, 160, 200, 0.33);\">\n",
    "<p>\n",
    "<b>e) [2.5 credits]</b> \n",
    "AS91 has been assigned the IPv6 Network <span style=\"font-family: monospace\">2001:db8:91::/56</span>.\n",
    "Hosts in different networks want to reach a server in this network.\n",
    "Reason how the traffic to AS91 will be routed on AS level for sources in AS60, AS7, AS20, AS63 and AS85 considering common peering and transit agreements?\n",
    "</p>\n",
    "</div>"
   ]
  },
  {
   "cell_type": "markdown",
   "metadata": {
    "collapsed": false,
    "scrolled": false
   },
   "source": []
  },
  {
   "cell_type": "markdown",
   "metadata": {
    "collapsed": false,
    "scrolled": false,
    "editable": false
   },
   "source": [
    "<div style=\"background-color:rgba(100, 160, 200, 0.33);\">\n",
    "<p>\n",
    "For the following subproblems, assume that all ASes apply the following policies ordered by their priority:\n",
    "</p>\n",
    "<ul>\n",
    "<li> Accept and use the more specifc announcement </li>\n",
    "<li> Accept and use the shorter path </li>\n",
    "<li> Accept and use announcements with a better economical value (generates money or is free to use) </li>\n",
    "</ul>\n",
    "</div>"
   ]
  },
  {
   "cell_type": "markdown",
   "metadata": {
    "collapsed": false,
    "scrolled": false,
    "editable": false
   },
   "source": [
    "<div style=\"background-color:rgba(100, 160, 200, 0.33);\">\n",
    "<p>\n",
    "<b>f) [0.5 credits]</b>\n",
    "Explain what happens when AS63 announces the prefix <span style=\"font-family: monospace\">2001:db8:91::/57</span>.\n",
    "How does this impact other ASes?\n",
    "</p>\n",
    "</div>"
   ]
  },
  {
   "cell_type": "markdown",
   "metadata": {
    "collapsed": false,
    "scrolled": false
   },
   "source": []
  },
  {
   "cell_type": "markdown",
   "metadata": {
    "collapsed": false,
    "scrolled": false,
    "editable": false
   },
   "source": [
    "<div style=\"background-color:rgba(100, 160, 200, 0.33);\">\n",
    "<p>\n",
    "<b>g) [1 credits]</b>\n",
    "Explain what happens when AS63 announces the prefix <span style=\"font-family: monospace\">2001:db8:91::/56</span>.\n",
    "How does this impact other ASes?\n",
    "</p>\n",
    "</div>"
   ]
  },
  {
   "cell_type": "markdown",
   "metadata": {
    "collapsed": false,
    "scrolled": false
   },
   "source": []
  },
  {
   "cell_type": "markdown",
   "metadata": {
    "collapsed": false,
    "scrolled": false,
    "editable": false
   },
   "source": [
    "<div style=\"background-color:rgba(100, 160, 200, 0.33);\">\n",
    "<p>\n",
    "<b>h) [0.5 credits]</b>\n",
    "Shortly explain why neither the h) nor i) fully hijacks the prefix 2001:db8:91::/56 of AS91 with the given policies.\n",
    "How can h) be addapted to hijack the prefix?\n",
    "</p>\n",
    "</div>"
   ]
  },
  {
   "cell_type": "markdown",
   "metadata": {
    "collapsed": false,
    "scrolled": false
   },
   "source": []
  },
  {
   "cell_type": "markdown",
   "metadata": {
    "collapsed": false,
    "scrolled": false,
    "editable": false
   },
   "source": [
    "<div style=\"background-color:rgba(100, 160, 200, 0.33);\">\n",
    "<p>\n",
    "<b>i) [1 credits]</b>\n",
    "Find and shortly explain at least one solutions that tries to prevent some sorts of BGP hijacking.\n",
    "</p>\n",
    "</div>"
   ]
  },
  {
   "cell_type": "markdown",
   "metadata": {
    "collapsed": false,
    "scrolled": false
   },
   "source": []
  },
  {
   "cell_type": "code",
   "execution_count": null,
   "metadata": {
    "collapsed": false,
    "scrolled": false
   },
   "outputs": [],
   "source": []
  },
  {
   "cell_type": "markdown",
   "metadata": {
    "collapsed": false,
    "scrolled": false,
    "editable": false
   },
   "source": [
    "<div style=\"background-color:rgba(100, 160, 200, 0.33);\">\n",
    "<h3>Problem 3 Feedback on the exercise (0.5 credits)</h3>\n",
    "\n",
    "<p>\n",
    "</p>\n",
    "\n",
    "</div>"
   ]
  },
  {
   "cell_type": "markdown",
   "metadata": {
    "collapsed": false,
    "scrolled": false,
    "editable": false
   },
   "source": [
    "<div style=\"background-color:rgba(100, 160, 200, 0.33);\">\n",
    "<p>\n",
    "What was the most interesting problem? Why do you think so?\n",
    "</p>\n",
    "</div>"
   ]
  },
  {
   "cell_type": "markdown",
   "metadata": {
    "collapsed": false,
    "scrolled": false
   },
   "source": []
  },
  {
   "cell_type": "markdown",
   "metadata": {
    "collapsed": false,
    "scrolled": false,
    "editable": false
   },
   "source": [
    "<div style=\"background-color:rgba(100, 160, 200, 0.33);\">\n",
    "<p>\n",
    "What was the least interesting problem? Why do you think so?\n",
    "</p>\n",
    "</div>"
   ]
  },
  {
   "cell_type": "markdown",
   "metadata": {
    "collapsed": false,
    "scrolled": false
   },
   "source": []
  },
  {
   "cell_type": "markdown",
   "metadata": {
    "collapsed": false,
    "scrolled": false,
    "editable": false
   },
   "source": [
    "<div style=\"background-color:rgba(100, 160, 200, 0.33);\">\n",
    "<p>\n",
    "If you could change one thing about the exercise, what would it be?\n",
    "</p>\n",
    "</div>"
   ]
  },
  {
   "cell_type": "markdown",
   "metadata": {
    "collapsed": false,
    "scrolled": false
   },
   "source": []
  },
  {
   "cell_type": "markdown",
   "metadata": {
    "collapsed": false,
    "scrolled": false,
    "editable": false
   },
   "source": [
    "<div style=\"background-color:rgba(100, 160, 200, 0.33);\">\n",
    "<p>\n",
    "Do you have any other feedback on the exercise?\n",
    "</p>\n",
    "</div>"
   ]
  },
  {
   "cell_type": "markdown",
   "metadata": {
    "collapsed": false,
    "scrolled": false
   },
   "source": []
  },
  {
   "cell_type": "markdown",
   "metadata": {
    "collapsed": false,
    "scrolled": false,
    "editable": false
   },
   "source": [
    "<div style=\"background-color:rgba(100, 160, 200, 0.33);\">\n",
    "<p><b>Advanced Computer Networking by Prof. Dr.-Ing. Georg Carle</b></p>\n",
    "<p>Teaching assistants: Sebastian Gallenm\u00fcller, Benedikt Jaeger, Max Helm, Patrick Sattler, Johannes Zirngibl</p>\n",
    "</div>"
   ]
  }
 ],
 "metadata": {
  "kernelspec": {
   "display_name": "Python 3",
   "language": "python",
   "name": "python3"
  },
  "language_info": {
   "codemirror_mode": {
    "name": "ipython",
    "version": 3
   },
   "file_extension": ".py",
   "mimetype": "text/x-python",
   "name": "python",
   "nbconvert_exporter": "python",
   "pygments_lexer": "ipython3",
   "version": "3.8.14"
  }
 },
 "nbformat": 4,
 "nbformat_minor": 2
}