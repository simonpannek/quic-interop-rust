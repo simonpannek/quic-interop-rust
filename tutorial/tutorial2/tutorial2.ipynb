{
 "cells": [
  {
   "cell_type": "markdown",
   "metadata": {
    "scrolled": false,
    "editable": false
   },
   "source": [
    "<div style=\"background-color:rgba(100, 160, 200, 0.33);\">\n",
    "\n",
    "<h1>Tutorial 2 - Transport Layer Protocols</h1>\n",
    "\n",
    "<p>\n",
    "Submission process:\n",
    "</p>\n",
    "<ul>\n",
    "<li>Submission deadline is November 17, 14:00 CET (before the lecture) .</li>\n",
    "<li>Commit and push your solution as single notebook file via git as <span style=\"font-family: monospace\">./tutorial2/tutorial2.ipynb</span>. Please take care of the correct subfolder/filename since submission is denied otherwise.</li>\n",
    "<li>During the first lecture after the deadline we will discuss a sample solution in class.</li>\n",
    "<li>Afterwards, you have time until November 24, 14:00 CET (before the lecture) to submit a corrected version of your submission:</li>\n",
    "<ol>\n",
    "  <li>Rework your solution according to our discussion in class.</li>\n",
    "  <li>Commit and push the corrected version as single file via git as <span style=\"font-family: monospace\">./tutorial2/tutorial2.ipynb</span>. Please take care of the correct filename since submission is denied otherwise.</li>\n",
    "</ol>\n",
    "</ul>\n",
    "\n",
    "<p>\n",
    "Remarks:\n",
    "</p>\n",
    "<ul>\n",
    "<li>Grading is done based on both versions of your submission.</li>\n",
    "<li>If the first submission is missing your submission will not be graded.</li>\n",
    "<li>If the second submission contains major flaws after revision not more than half of the credits for this tutorial can be achieved.</li>\n",
    "<li>A sample solution is provided after November 24, 14:00 CET eventually.</li>\n",
    "<li>\n",
    "Please use <a href=\"mailto:acn@net.in.tum.de\">acn@net.in.tum.de</a> for questions regarding lecture, tutorial, and project of ACN.\n",
    "</li>\n",
    "</ul>\n",
    "</div>"
   ]
  },
  {
   "cell_type": "markdown",
   "metadata": {
    "scrolled": false,
    "editable": false
   },
   "source": [
    "<div style=\"background-color:rgba(100, 160, 200, 0.33);\">\n",
    "<h3>Problem 1 TCP Congestion Control Fairness (4 credits)</h3>\n",
    "\n",
    "<p>\n",
    "This problem is focused on TCP congestion control. Different algorithms are observed and the fairness between them is evaluated.\n",
    "</p>\n",
    "</div>"
   ]
  },
  {
   "cell_type": "markdown",
   "metadata": {
    "scrolled": false,
    "editable": false
   },
   "source": [
    "<div style=\"background-color:rgba(100, 160, 200, 0.33);\">\n",
    "<p>\n",
    "In the following we consider two TCP flows which share the same bottleneck link. The next cell visualizes the sending rates of the two flows.\n",
    "</p>\n",
    "</div>"
   ]
  },
  {
   "cell_type": "code",
   "execution_count": null,
   "metadata": {
    "scrolled": false
   },
   "outputs": [],
   "source": [
    "%matplotlib inline\n",
    "\n",
    "import numpy as np\n",
    "import matplotlib.pyplot as plt\n",
    "\n",
    "# Download RTT CSV from ACN website\n",
    "!wget -N https://acn.net.in.tum.de/exercise/tcp_cc.npz\n",
    "\n",
    "# Load file into Python\n",
    "data = np.load('tcp_cc.npz')\n",
    "ts, flow1, flow2 = data['ts'], data['flow1'], data['flow2']"
   ]
  },
  {
   "cell_type": "code",
   "execution_count": null,
   "metadata": {
    "scrolled": false
   },
   "outputs": [],
   "source": [
    "# Helper function to plot data\n",
    "def plot(*data, x_label=None, y_label=None, legends=[], y_min=None, y_max=None):\n",
    "    plt.figure(figsize=(18, 6))\n",
    "    plt.xlabel(x_label)\n",
    "    plt.ylabel(y_label)\n",
    "    for xs, ys in data:\n",
    "        plt.plot(xs, ys)\n",
    "    plt.legend(legends)\n",
    "    plt.gca().set_ylim(bottom=y_min, top=y_max)\n",
    "\n",
    "\n",
    "plot((ts, flow1), (ts, flow2), x_label='Time in s', y_label='Sending Rate in bps', legends=['Flow1', 'Flow2'], y_min=0)"
   ]
  },
  {
   "cell_type": "markdown",
   "metadata": {
    "scrolled": false,
    "editable": false
   },
   "source": [
    "<div style=\"background-color:rgba(100, 160, 200, 0.33);\">\n",
    "<p>\n",
    "<b>a) [0.5 credits]</b>\n",
    "One of the flows uses Cubic congestion control, the other one BBR. Identify which of the flows uses BBR. No credits without short reasoning.\n",
    "</p>\n",
    "\n",
    "</div>"
   ]
  },
  {
   "cell_type": "markdown",
   "metadata": {
    "scrolled": false
   },
   "source": []
  },
  {
   "cell_type": "markdown",
   "metadata": {
    "scrolled": false,
    "editable": false
   },
   "source": [
    "<div style=\"background-color:rgba(100, 160, 200, 0.33);\">\n",
    "<p>\n",
    "<b>b) [0.5 credits]</b>\n",
    "Write a function <span style=\"font-family: monospace\">compute_sum()</span> which computes the total sending rate of two flows. It receives two lists and should return a list of the same size.\n",
    "</p>\n",
    "\n",
    "</div>"
   ]
  },
  {
   "cell_type": "code",
   "execution_count": null,
   "metadata": {
    "scrolled": false
   },
   "outputs": [],
   "source": [
    "def compute_sum(flow1, flow2):\n",
    "    # begin insert code\n",
    "    # end insert code\n",
    "\n",
    "    return flow1\n",
    "\n",
    "plot((ts, flow1), (ts, flow2), (ts, compute_sum(flow1, flow2)),\n",
    "     x_label='Time in s', y_label='Sending Rate in bps', legends=['flow1', 'flow2', 'total'], y_min=0)"
   ]
  },
  {
   "cell_type": "markdown",
   "metadata": {
    "scrolled": false,
    "editable": false
   },
   "source": [
    "<div style=\"background-color:rgba(100, 160, 200, 0.33);\">\n",
    "<p>\n",
    "<b>c) [0.5 credits]</b>\n",
    "Based on your results from b) estimate the bottleneck link's capacity.\n",
    "What happens if the total sending rate of the two flows exceeds this value?\n",
    "</p>\n",
    "\n",
    "</div>"
   ]
  },
  {
   "cell_type": "markdown",
   "metadata": {
    "scrolled": false
   },
   "source": []
  },
  {
   "cell_type": "markdown",
   "metadata": {
    "scrolled": false,
    "editable": false
   },
   "source": [
    "<div style=\"background-color:rgba(100, 160, 200, 0.33);\">\n",
    "<p>\n",
    "<b>d) [0.5 credits]</b>\n",
    "The minimum RTT of both flows is 50ms. Compute the path's BDP using the results from b) in kbit.\n",
    "</p>\n",
    "\n",
    "</div>"
   ]
  },
  {
   "cell_type": "code",
   "execution_count": null,
   "metadata": {
    "scrolled": false
   },
   "outputs": [],
   "source": [
    "BDP = 0\n",
    "# begin insert code\n",
    "# end insert code\n",
    "print('BDP: {:.2f} kbit'.format(BDP))"
   ]
  },
  {
   "cell_type": "markdown",
   "metadata": {
    "scrolled": false,
    "editable": false
   },
   "source": [
    "<div style=\"background-color:rgba(100, 160, 200, 0.33);\">\n",
    "<p>\n",
    "<b>e) [0.5 credits]</b>\n",
    "In the following you will quantify the fairness of the two flows using \n",
    "<a href=\"https://tools.ietf.org/html/rfc5166#section-2.3.1\">Jain's Fairness Index</a>. Explain two advantages of this index.\n",
    "</p>\n",
    "\n",
    "</div>"
   ]
  },
  {
   "cell_type": "markdown",
   "metadata": {
    "scrolled": false
   },
   "source": []
  },
  {
   "cell_type": "markdown",
   "metadata": {
    "scrolled": false,
    "editable": false
   },
   "source": [
    "<div style=\"background-color:rgba(100, 160, 200, 0.33);\">\n",
    "<p>\n",
    "<b>f) [1 credits]</b>\n",
    "Write a function <span style=\"font-family: monospace\">compute_fairness()</span> which receives a list of equal sized lists an then computes Jain's Index elementwise.\n",
    "</p>\n",
    "\n",
    "</div>"
   ]
  },
  {
   "cell_type": "code",
   "execution_count": null,
   "metadata": {
    "scrolled": false
   },
   "outputs": [],
   "source": [
    "# Example:\n",
    "# input: [[1, 2, 3], [4, 5, 6]]\n",
    "# output: [jain(1,4), jain(2, 5), jain(3, 6)]\n",
    "# with jain(x1, x2, ...): jain index of x1, x2, ...\n",
    "\n",
    "def compute_fairness(*lists):\n",
    "    \n",
    "    # this checks is all input lists have same size\n",
    "    assert len(set(map(len, lists))) == 1\n",
    "    \n",
    "    # begin insert code\n",
    "    # end insert code\n",
    "\n",
    "    # Dummy output\n",
    "    # returns [1,1, ...] of the same length as the first parameter\n",
    "    return [1, ] * len(lists[0])\n",
    "\n",
    "plot((ts, compute_fairness(flow1, flow2)), x_label='Time in s', y_label='Jain\\'s Index', y_min=0.5, y_max=1)"
   ]
  },
  {
   "cell_type": "markdown",
   "metadata": {
    "scrolled": false,
    "editable": false
   },
   "source": [
    "<div style=\"background-color:rgba(100, 160, 200, 0.33);\">\n",
    "<p>\n",
    "<b>g) [0.5 credits]</b>\n",
    "Considering the results from e), assess the fairness between Cubic and BBR. Also take the results from the next cell into account (assuming you implemented the <span style=\"font-family: monospace\">compute_fairness</span> function).\n",
    "</p>\n",
    "\n",
    "</div>"
   ]
  },
  {
   "cell_type": "code",
   "execution_count": null,
   "metadata": {
    "scrolled": false
   },
   "outputs": [],
   "source": [
    "print('Flow1 transmitted {:.2f} Mbit/s on average.'.format(np.mean(flow1) / 10**6))\n",
    "print('Flow2 transmitted {:.2f} Mbit/s on average.'.format(np.mean(flow2) / 10**6))\n",
    "\n",
    "total_fairness = compute_fairness([np.mean(flow1)], [np.mean(flow2)])\n",
    "print('This results in a total fairness of {:.5f}'.format(total_fairness[0]))"
   ]
  },
  {
   "cell_type": "markdown",
   "metadata": {
    "scrolled": false
   },
   "source": []
  },
  {
   "cell_type": "markdown",
   "metadata": {
    "scrolled": false,
    "editable": false
   },
   "source": [
    "<div style=\"background-color:rgba(100, 160, 200, 0.33);\">\n",
    "<h3>Problem 2 TCP Round-trip-time Estimation (3 credits)</h3>\n",
    "\n",
    "<p>\n",
    "This problem is focused on TCP Timestamps Options.\n",
    "</p>\n",
    "</div>"
   ]
  },
  {
   "cell_type": "markdown",
   "metadata": {
    "scrolled": false,
    "editable": false
   },
   "source": [
    "<div style=\"background-color:rgba(100, 160, 200, 0.33);\">\n",
    "<p>\n",
    "<b>a) [1 credits]</b>\n",
    "    TCP can use Timestamps Options to estimate the RTT of a connection. \n",
    "    Have a look at <a href=\"https://tools.ietf.org/html/rfc7323\">RFC 7323</a> to understand how TCP Timestamps Options work.\n",
    "    The options contains two fields:\n",
    "</p>\n",
    "<ul>\n",
    "    <li>TS Value (TSval)</li>\n",
    "    <li>TS Echo Reply (TSecr).</li>\n",
    "</ul>\n",
    "\n",
    "<p>\n",
    "    Briefly explain (in your own words) how these values are used to estimate the RTT. \n",
    "</p>\n",
    "\n",
    "</div>"
   ]
  },
  {
   "cell_type": "markdown",
   "metadata": {
    "scrolled": false
   },
   "source": []
  },
  {
   "cell_type": "markdown",
   "metadata": {
    "scrolled": false,
    "editable": false
   },
   "source": [
    "<div style=\"background-color:rgba(100, 160, 200, 0.33);\">\n",
    "<p>\n",
    "In the following you will write code which computes RTT estimations from TCP Timestamp Options.\n",
    "Keep in mind that this time we are a passive observer of the connection and do not have any information about the internal TCP state of any of the endpoints. This means we cannot rely on the pseudo-timestamp values contained in the options. \n",
    "</p>\n",
    "</div>"
   ]
  },
  {
   "cell_type": "code",
   "execution_count": null,
   "metadata": {
    "scrolled": false
   },
   "outputs": [],
   "source": [
    "%matplotlib inline\n",
    "\n",
    "import numpy as np\n",
    "import matplotlib.pyplot as plt\n",
    "\n",
    "# Download RTT CSV from ACN website\n",
    "!wget -N https://acn.net.in.tum.de/exercise/tcp_timestamp.npz\n",
    "\n",
    "# Load file into Python\n",
    "data = np.load('tcp_timestamp.npz')\n",
    "flow1_tsval, flow1_tsecr = data['flow1_tsval'], data['flow1_tsecr']\n",
    "flow2_tsval, flow2_tsecr = data['flow2_tsval'], data['flow2_tsecr']\n",
    "flow3_tsval, flow3_tsecr = data['flow3_tsval'], data['flow3_tsecr']\n",
    "flow4_tsval, flow4_tsecr = data['flow4_tsval'], data['flow4_tsecr']"
   ]
  },
  {
   "cell_type": "code",
   "execution_count": null,
   "metadata": {
    "scrolled": false
   },
   "outputs": [],
   "source": [
    "# Helper function to plot data\n",
    "def plot(*data, x_label=None, y_label=None, legends=[], y_min=None, y_max=None):\n",
    "    plt.figure(figsize=(18, 6))\n",
    "    plt.xlabel(x_label)\n",
    "    plt.ylabel(y_label)\n",
    "    for xs, ys in data:\n",
    "        plt.plot(xs, ys)\n",
    "    plt.legend(legends)\n",
    "    plt.gca().set_ylim(bottom=y_min, top=y_max)"
   ]
  },
  {
   "cell_type": "markdown",
   "metadata": {
    "scrolled": false,
    "editable": false
   },
   "source": [
    "<div style=\"background-color:rgba(100, 160, 200, 0.33);\">\n",
    "<p>\n",
    "<b>b) [1 credits]</b>\n",
    "Write a function <span style=\"font-family: monospace\">compute_rtt()</span> which receives as input two lists:\n",
    "    <ul>\n",
    "    <li>tsval: contains tuples with (timestamp, tsval) which contains all tsval sent and the according timestamp.</li>\n",
    "    <li>tsecr: contains tuples with (timestamp, tsecr) which contains all tsecr received and the according timestamp.</li>\n",
    "    </ul>\n",
    "    You can assume that the values are only captured on the sending side of the connection.\n",
    "    \n",
    "The function should return a list of tuples containing (timestamp, rtt).\n",
    "</p>\n",
    "\n",
    "</div>"
   ]
  },
  {
   "cell_type": "code",
   "execution_count": null,
   "metadata": {
    "scrolled": false
   },
   "outputs": [],
   "source": [
    "def compute_rtt(ts_val, ts_ecr):\n",
    "    # begin insert code\n",
    "    # end insert code\n",
    "\n",
    "    return [(0, 0)]\n",
    "\n",
    "plot(zip(*compute_rtt(flow1_tsval, flow1_tsecr)), x_label='Time in s', y_label='RTT in s', legends=['Flow1'], y_min=0)"
   ]
  },
  {
   "cell_type": "markdown",
   "metadata": {
    "scrolled": false,
    "editable": false
   },
   "source": [
    "<div style=\"background-color:rgba(100, 160, 200, 0.33);\">\n",
    "<p>\n",
    "<b>c) [1 credits]</b>\n",
    "The dataset contains four TCP flows using different congestion control algorithms.\n",
    "For each flow, try to find out which algorithm was used and explain your reasoning.\n",
    "You do not get any credits without an explanation.\n",
    "</p>\n",
    "\n",
    "</div>"
   ]
  },
  {
   "cell_type": "code",
   "execution_count": null,
   "metadata": {
    "scrolled": false
   },
   "outputs": [],
   "source": [
    "plot(zip(*compute_rtt(flow1_tsval, flow1_tsecr)),\n",
    "     zip(*compute_rtt(flow2_tsval, flow2_tsecr)),\n",
    "     zip(*compute_rtt(flow3_tsval, flow3_tsecr)),\n",
    "     zip(*compute_rtt(flow4_tsval, flow4_tsecr)),\n",
    "     x_label='Time in s', y_label='RTT in s',\n",
    "     legends=['Flow1', 'Flow2', 'Flow3', 'Flow4'], y_min=0)"
   ]
  },
  {
   "cell_type": "markdown",
   "metadata": {
    "scrolled": false
   },
   "source": []
  },
  {
   "cell_type": "markdown",
   "metadata": {
    "scrolled": false,
    "editable": false
   },
   "source": [
    "<div style=\"background-color:rgba(100, 160, 200, 0.33);\">\n",
    "<h3>Problem 3 Exponential Weighted Moving Average (3 credits)</h3>\n",
    "\n",
    "<p>\n",
    "In this exercise you will compute the retransmission timout of a TCP connection. The first cell downloads a csv file which contains RTT samples of a TCP connection. You will then analyze the RTT values and finally compute the retransmission timout.\n",
    "</p>\n",
    "</div>"
   ]
  },
  {
   "cell_type": "code",
   "execution_count": null,
   "metadata": {
    "scrolled": false
   },
   "outputs": [],
   "source": [
    "%matplotlib inline\n",
    "\n",
    "import numpy as np\n",
    "import matplotlib.pyplot as plt\n",
    "\n",
    "# Download RTT CSV from ACN website\n",
    "!wget -N https://acn.net.in.tum.de/exercise/tcp_rtt.npz\n",
    "\n",
    "# Load file into Python\n",
    "data = np.load('tcp_rtt.npz')\n",
    "ts, rtt = data['ts'], data['rtt']"
   ]
  },
  {
   "cell_type": "code",
   "execution_count": null,
   "metadata": {
    "scrolled": false
   },
   "outputs": [],
   "source": [
    "# Helper function to plot data\n",
    "def plot(*data, x_label=None, y_label=None, legends=[], y_min=None, y_max=None):\n",
    "    plt.figure(figsize=(18, 6))\n",
    "    plt.xlabel(x_label)\n",
    "    plt.ylabel(y_label)\n",
    "    for xs, ys in data:\n",
    "        plt.plot(xs, ys)\n",
    "    plt.legend(legends)\n",
    "    plt.gca().set_ylim(bottom=y_min, top=y_max)\n",
    "\n",
    "\n",
    "plot((ts, rtt), x_label='Time in s', y_label='RTT in ms', legends=['flow1'])"
   ]
  },
  {
   "cell_type": "markdown",
   "metadata": {
    "scrolled": false,
    "editable": false
   },
   "source": [
    "<div style=\"background-color:rgba(100, 160, 200, 0.33);\">\n",
    "<p>\n",
    "<b>a) [0.1 credits]</b>\n",
    "Have a look at the above graph. Which congestion control algorithm was used by the TCP sender? (No explanation required)\n",
    "</p>\n",
    "</div>"
   ]
  },
  {
   "cell_type": "markdown",
   "metadata": {
    "scrolled": false
   },
   "source": []
  },
  {
   "cell_type": "markdown",
   "metadata": {
    "scrolled": false,
    "editable": false
   },
   "source": [
    "<div style=\"background-color:rgba(100, 160, 200, 0.33);\">\n",
    "<p>\n",
    "<b>b) [0.5 credits]</b>\n",
    "Write a function to compute the exponential weighted moving average.\n",
    "The function <span style=\"font-family: monospace\">ewma()</span> gets two parameters, a list of values and a value alpha as weight for the new samples.\n",
    "</p>\n",
    "</div>"
   ]
  },
  {
   "cell_type": "code",
   "execution_count": null,
   "metadata": {
    "scrolled": false
   },
   "outputs": [],
   "source": [
    "def ewma(values, alpha):\n",
    "    # begin insert code\n",
    "    # end insert code\n",
    "    return values\n",
    "\n",
    "smoothed_rtt = ewma(rtt, 0.125)\n",
    "plot((ts, rtt), (ts, smoothed_rtt), x_label='Time in s', y_label='RTT in ms', legends=['RTT', 'EWMA'])\n"
   ]
  },
  {
   "cell_type": "markdown",
   "metadata": {
    "scrolled": false,
    "editable": false
   },
   "source": [
    "<div style=\"background-color:rgba(100, 160, 200, 0.33);\">\n",
    "<p>\n",
    "<b>c) [0.4 credits]</b>\n",
    "Compare the results when using different values for alpha and explain how it impacts the resulting average.\n",
    "</p>\n",
    "</div>"
   ]
  },
  {
   "cell_type": "markdown",
   "metadata": {
    "scrolled": false
   },
   "source": []
  },
  {
   "cell_type": "markdown",
   "metadata": {
    "scrolled": false,
    "editable": false
   },
   "source": [
    "<div style=\"background-color:rgba(100, 160, 200, 0.33);\">\n",
    "<p>\n",
    "<b>d) [1.5 credits]</b>\n",
    "    Have a look at <a href=\"https://tools.ietf.org/html/rfc6298\">RFC 6298</a> how TCP computes the retransmission timeout (RTO). In the following we implement a function to compute this value for our connection. We will ignore the clock granularity G, e.g. consider it small enough.\n",
    "</p>\n",
    "\n",
    "<p>\n",
    "Write the function <span style=\"font-family: monospace\">compute_rto()</span> which receives a list of RTT samples and computes the RTO values using the two state variables SRTT (smoothed round-trip time) and RTTVAR (round-trip time variation) as explained in <a href=\"https://tools.ietf.org/html/rfc6298\">RFC 6298</a>.\n",
    "</p>\n",
    "</div>"
   ]
  },
  {
   "cell_type": "code",
   "execution_count": null,
   "metadata": {
    "scrolled": false
   },
   "outputs": [],
   "source": [
    "def compute_rto(samples):\n",
    "    # constants\n",
    "    ALPHA = 0.125\n",
    "    BETA = 0.25\n",
    "    K = 4\n",
    "    G = 0\n",
    "\n",
    "    # begin insert code\n",
    "    # end insert code\n",
    "    return samples\n",
    "\n",
    "plot((ts, rtt), (ts, compute_rto(rtt)), x_label='Time in s', y_label='RTT in ms', legends=['RTT', 'RTO'])"
   ]
  },
  {
   "cell_type": "markdown",
   "metadata": {
    "scrolled": false,
    "editable": false
   },
   "source": [
    "<div style=\"background-color:rgba(100, 160, 200, 0.33);\">\n",
    "<p>\n",
    "<b>e) [0.5 credits]</b>\n",
    "Discuss the influence on TCP if the RTT is considerably overestimated or underestimated.\n",
    "</p>\n",
    "\n",
    "</div>"
   ]
  },
  {
   "cell_type": "markdown",
   "metadata": {
    "scrolled": false
   },
   "source": []
  },
  {
   "cell_type": "markdown",
   "metadata": {
    "scrolled": false,
    "editable": false
   },
   "source": [
    "<div style=\"background-color:rgba(100, 160, 200, 0.33);\">\n",
    "<h3>Problem 4 QUIC (3 credits)</h3>\n",
    "\n",
    "<p>\n",
    "This problem is about the QUIC protocol.\n",
    "QUIC is considered as the sucessor for the TCP/TLS stack and is the based for the new HTTP/3 standard.\n",
    "</p>\n",
    "</div>"
   ]
  },
  {
   "cell_type": "markdown",
   "metadata": {
    "scrolled": false,
    "editable": false
   },
   "source": [
    "<div style=\"background-color:rgba(100, 160, 200, 0.33);\">\n",
    "<p>\n",
    "<b>a) [0.5 credits]</b>\n",
    "Name all protocols which are usually (e.g. HTTP/1.1) used on top of IP when you visit <a href=\"https://acn.net.in.tum.de/\">https://acn.net.in.tum.de/</a>.\n",
    "Which protocols will be used when you would visit the same page with HTTP/3?\n",
    "</p>\n",
    "\n",
    "</div>"
   ]
  },
  {
   "cell_type": "markdown",
   "metadata": {
    "scrolled": false
   },
   "source": [
    "<b>HTTP/1.1:</b>\n",
    "<ul>\n",
    "</ul>\n",
    "\n",
    "<b>HTTP/3:</b>\n",
    "<ul>\n",
    "</ul>"
   ]
  },
  {
   "cell_type": "markdown",
   "metadata": {
    "scrolled": false,
    "editable": false
   },
   "source": [
    "<div style=\"background-color:rgba(100, 160, 200, 0.33);\">\n",
    "<p>\n",
    "    The QUIC protocol is currently standardized by the IETF.\n",
    "    You can find the RFC <a href=\"https://www.rfc-editor.org/rfc/rfc9000.html\">here</a>.\n",
    "    For the next questions you need to have a closer look into the draft.\n",
    "</p>\n",
    "\n",
    "</div>"
   ]
  },
  {
   "cell_type": "markdown",
   "metadata": {
    "scrolled": false,
    "editable": false
   },
   "source": [
    "<div style=\"background-color:rgba(100, 160, 200, 0.33);\">\n",
    "<p>\n",
    "<b>b) [0.5 credits]</b>\n",
    "    QUIC differenciates between packets and frames.\n",
    "    Name <b>all</b> packet types available in QUIC.\n",
    "</p>\n",
    "\n",
    "</div>"
   ]
  },
  {
   "cell_type": "markdown",
   "metadata": {
    "scrolled": false
   },
   "source": []
  },
  {
   "cell_type": "markdown",
   "metadata": {
    "scrolled": false,
    "editable": false
   },
   "source": [
    "<div style=\"background-color:rgba(100, 160, 200, 0.33);\">\n",
    "<p>\n",
    "<b>c) [0.5 credits]</b>\n",
    "    Name <b>5</b> frame types specified in the RFC.\n",
    "</p>\n",
    "\n",
    "</div>"
   ]
  },
  {
   "cell_type": "markdown",
   "metadata": {
    "scrolled": false
   },
   "source": []
  },
  {
   "cell_type": "markdown",
   "metadata": {
    "scrolled": false,
    "editable": false
   },
   "source": [
    "<div style=\"background-color:rgba(100, 160, 200, 0.33);\">\n",
    "<p>\n",
    "    Qlog is a logging format for QUIC. The next cell downloads a qlog file of QUIC connection which transferred a small file between two hosts. \n",
    "</p>\n",
    "\n",
    "</div>"
   ]
  },
  {
   "cell_type": "code",
   "execution_count": null,
   "metadata": {
    "scrolled": false
   },
   "outputs": [],
   "source": [
    "import json\n",
    "\n",
    "# Download qlog file\n",
    "!wget -N https://acn.net.in.tum.de/exercise/quic.qlog\n",
    "\n",
    "# Load file into Python\n",
    "with open('quic.qlog') as f:\n",
    "    data = json.load(f)\n",
    "\n",
    "print('\\nThe qlog is formatted as follows:')\n",
    "print(data.keys())\n",
    "\n",
    "print('\\nThis qlog contains {} traces.'.format(len(data['traces'])))\n",
    "print('Traces is a list containing the following values:')\n",
    "print(data['traces'][0].keys())\n",
    "\n",
    "events = data['traces'][0]['events']\n",
    "print('\\nEach trace containes a list of events:')\n",
    "print(events[0])"
   ]
  },
  {
   "cell_type": "markdown",
   "metadata": {
    "scrolled": false,
    "editable": false
   },
   "source": [
    "<div style=\"background-color:rgba(100, 160, 200, 0.33);\">\n",
    "<p>\n",
    "    For the following questions you can either parse the qlog file in Python, or use the qvis tool which nicely visualizes the qlog. We recommend the later.\n",
    "    You can use the version hosted at <a href=\"https://qvis.edm.uhasselt.be/\">https://qvis.edm.uhasselt.be/</a>.\n",
    "</p>\n",
    "<p>\n",
    "    Also, the format of the file is specified in <a href=\"https://tools.ietf.org/html/draft-marx-qlog-main-schema-01\">this draft</a>.\n",
    "</p>\n",
    "\n",
    "</div>"
   ]
  },
  {
   "cell_type": "markdown",
   "metadata": {
    "scrolled": false,
    "editable": false
   },
   "source": [
    "<div style=\"background-color:rgba(100, 160, 200, 0.33);\">\n",
    "<p>\n",
    "<b>d) [0.5 credits]</b>\n",
    "    Which QUIC version is used in this connection. Paste the version ID as well as which version is specified by it (<a href=\"https://github.com/quicwg/base-drafts/wiki/QUIC-Versions\">hint</a>). <br>\n",
    "    Also, find out which QUIC implementation was used to generate the qlog file.\n",
    "</p>\n",
    "\n",
    "</div>"
   ]
  },
  {
   "cell_type": "markdown",
   "metadata": {
    "scrolled": false
   },
   "source": []
  },
  {
   "cell_type": "markdown",
   "metadata": {
    "scrolled": false,
    "editable": false
   },
   "source": [
    "<div style=\"background-color:rgba(100, 160, 200, 0.33);\">\n",
    "<p>\n",
    "    The qlog containes HTTP/3 request response pair. The request can be found in event 23.\n",
    "</p>\n",
    "\n",
    "</div>"
   ]
  },
  {
   "cell_type": "code",
   "execution_count": null,
   "metadata": {
    "scrolled": false
   },
   "outputs": [],
   "source": [
    "import pprint\n",
    "pprint.pprint(events[23])"
   ]
  },
  {
   "cell_type": "markdown",
   "metadata": {
    "scrolled": false,
    "editable": false
   },
   "source": [
    "<div style=\"background-color:rgba(100, 160, 200, 0.33);\">\n",
    "<p>\n",
    "<b>e) [0.5 credits]</b>\n",
    "    <ul>\n",
    "        <li>Name the packet type included in this event and explain why this packet type has to be used.</li>\n",
    "        <li>Name <b>and</b> briefly explain all frame types in this event.</li>\n",
    "    <ul>\n",
    "</p>\n",
    "\n",
    "</div>"
   ]
  },
  {
   "cell_type": "markdown",
   "metadata": {
    "scrolled": false
   },
   "source": []
  },
  {
   "cell_type": "markdown",
   "metadata": {
    "scrolled": false,
    "editable": false
   },
   "source": [
    "<div style=\"background-color:rgba(100, 160, 200, 0.33);\">\n",
    "<p>\n",
    "<b>f) [0.5 credits]</b>\n",
    "    <ul>\n",
    "        <li>Which event carries the response of the server?</li>\n",
    "        <li>How large is the file requested by the client?</li>\n",
    "    <ul>\n",
    "</p>\n",
    "\n",
    "</div>"
   ]
  },
  {
   "cell_type": "markdown",
   "metadata": {
    "scrolled": false
   },
   "source": []
  },
  {
   "cell_type": "markdown",
   "metadata": {
    "scrolled": false,
    "editable": false
   },
   "source": [
    "<div style=\"background-color:rgba(100, 160, 200, 0.33);\">\n",
    "<p><b>Advanced Computer Networking by Prof. Dr.-Ing. Georg Carle</b></p>\n",
    "<p>Teaching assistants: Sebastian Gallenmüller, Benedikt Jaeger, Max Helm, Patrick Sattler, Johannes Zirngibl</p>\n",
    "</div>"
   ]
  }
 ],
 "metadata": {
  "kernelspec": {
   "display_name": "Python 3",
   "language": "python",
   "name": "python3"
  },
  "language_info": {
   "codemirror_mode": {
    "name": "ipython",
    "version": 2
   },
   "file_extension": ".py",
   "mimetype": "text/x-python",
   "name": "python",
   "nbconvert_exporter": "python",
   "pygments_lexer": "ipython2",
   "version": "2.7.16"
  }
 },
 "nbformat": 4,
 "nbformat_minor": 2
}