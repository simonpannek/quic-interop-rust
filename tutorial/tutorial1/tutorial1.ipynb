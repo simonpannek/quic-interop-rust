{
 "cells": [
  {
   "cell_type": "markdown",
   "metadata": {
    "editable": false,
    "scrolled": false
   },
   "source": [
    "<div style=\"background-color:rgba(100, 160, 200, 0.33);\">\n",
    "\n",
    "<h1>Tutorial 1 - Introduction</h1>\n",
    "\n",
    "<p>\n",
    "Submission process:\n",
    "</p>\n",
    "<ul>\n",
    "<li>Submission deadline is November 3, 14:00 CET (before the lecture) .</li>\n",
    "<li>Commit and push your solution as single notebook file via git as <span style=\"font-family: monospace\">./tutorial1/tutorial1.ipynb</span>. Please take care of the correct subfolder/filename since submission is denied otherwise.</li>\n",
    "<li>During the first lecture after the deadline we will discuss a sample solution in class.</li>\n",
    "<li>Afterwards, you have time until November 10, 14:00 CET (before the lecture) to submit a corrected version of your submission:</li>\n",
    "<ol>\n",
    "  <li>Rework your solution according to our discussion in class.</li>\n",
    "  <li>Commit and push the corrected version as single file via git as <span style=\"font-family: monospace\">./tutorial1/tutorial1.ipynb</span>. Please take care of the correct filename since submission is denied otherwise.</li>\n",
    "</ol>\n",
    "</ul>\n",
    "\n",
    "<p>\n",
    "Remarks:\n",
    "</p>\n",
    "<ul>\n",
    "<li>Grading is done based on both versions of your submission.</li>\n",
    "<li>If the first submission is missing your submission will not be graded.</li>\n",
    "<li>If the second submission contains major flaws after revision not more than half of the credits for this tutorial can be achieved.</li>\n",
    "<li>A sample solution is provided after November 10, 14:00 CET eventually.</li>\n",
    "<li>\n",
    "Please use <a href=\"mailto:acn@net.in.tum.de\">acn@net.in.tum.de</a> for questions regarding lecture, tutorial, and project of ACN.\n",
    "</li>\n",
    "</ul>\n",
    "</div>"
   ]
  },
  {
   "cell_type": "markdown",
   "metadata": {
    "editable": false,
    "scrolled": false
   },
   "source": [
    "<div style=\"background-color:rgba(100, 160, 200, 0.33);\">\n",
    "<h3>Problem 1 GIT Access [1.5 credits]</h3>\n",
    "\n",
    "<p>\n",
    "This exercise should make you familiar with the git repositories.\n",
    "</p>\n",
    "\n",
    "</div>"
   ]
  },
  {
   "cell_type": "markdown",
   "metadata": {
    "editable": false,
    "scrolled": false
   },
   "source": [
    "<div style=\"background-color:rgba(100, 160, 200, 0.33);\">\n",
    "<p>\n",
    "Git is a distributed version control system, originally developed by Linus Torvalds for maintaining the Linux kernel.\n",
    "It became popular in professional software development over the past few years due its features, stability, and efficiency.\n",
    "We use git in this course as a version control system for both submissions of exercises as well as the project, i.e., we provide you with a git repository structure hosted on the LRZ Gitlab.\n",
    "You can <span style=\"font-family: monospace\">clone</span> your repository and <span style=\"font-family: monospace\">push</span> changes to the server using SSH or HTTPS with or without a deploy token.\n",
    "</p>\n",
    "</div>"
   ]
  },
  {
   "cell_type": "markdown",
   "metadata": {
    "editable": false,
    "scrolled": false
   },
   "source": [
    "<div style=\"background-color:rgba(100, 160, 200, 0.33);\">\n",
    "<p>\n",
    "<b>a) [0.5 credits]</b>\n",
    "Explain the differences between the git commands <span style=\"font-family: monospace\">add</span>, <span style=\"font-family: monospace\">commit</span>, and <span style=\"font-family: monospace\">push</span>.\n",
    "</p>\n",
    "</div>"
   ]
  },
  {
   "cell_type": "markdown",
   "metadata": {
    "scrolled": false
   },
   "source": [
    "git add: This command adds file changes to the so-called \"staging area\". Staged changes will be considered when creating a commit (see below).\n",
    "\n",
    "git commit: This command creates a commit of all staged changes, saving all changes as a separate entity in the git history.\n",
    "\n",
    "git push: This command tries to \"push\" all local commits to the git server that is set as an origin."
   ]
  },
  {
   "cell_type": "markdown",
   "metadata": {
    "editable": false,
    "scrolled": false
   },
   "source": [
    "<div style=\"background-color:rgba(100, 160, 200, 0.33);\">\n",
    "<p>\n",
    "<b>b) [0.5 credits]</b>\n",
    "Save your current changes to this Jupyter notebook.\n",
    "Add the file to a new commit and push to remote, the pull again.\n",
    "Execute the command <span style=\"font-family: monospace\">git tag</span> and paste the output here.\n",
    "    \n",
    "Explain the meaning of the output.\n",
    "</p>\n",
    "</div>"
   ]
  },
  {
   "cell_type": "markdown",
   "metadata": {
    "scrolled": false
   },
   "source": []
  },
  {
   "cell_type": "markdown",
   "metadata": {
    "editable": false,
    "scrolled": false
   },
   "source": [
    "<div style=\"background-color:rgba(100, 160, 200, 0.33);\">\n",
    "<p>\n",
    "<b>c) [0.5 credits]</b>\n",
    "    Create and push a new branch called <span style=\"font-family: monospace\">grades</span>.\n",
    "    Paste the commands used to do so into your answer.\n",
    "    Explain what happens.\n",
    "</p>\n",
    "</div>"
   ]
  },
  {
   "cell_type": "markdown",
   "metadata": {
    "scrolled": false
   },
   "source": []
  },
  {
   "cell_type": "markdown",
   "metadata": {
    "editable": false,
    "scrolled": false
   },
   "source": [
    "<div style=\"background-color:rgba(100, 160, 200, 0.33);\">\n",
    "<h3>Problem 2 SSH and Virtual Machine (VM) Access [3.0 credits]</h3>\n",
    "\n",
    "<p>\n",
    "If you can see this notebook you probably followed directions from the <a href=\"https://acn.net.in.tum.de/exercise/instructions.pdf\">infrastructure introduction</a>.\n",
    "To hand in your answers, please write them down in the prepared cells.\n",
    "</p>\n",
    "\n",
    "</div>"
   ]
  },
  {
   "cell_type": "markdown",
   "metadata": {
    "editable": false,
    "scrolled": false
   },
   "source": [
    "<div style=\"background-color:rgba(100, 160, 200, 0.33);\">\n",
    "<p>\n",
    "<b>a) [0.5 credits]</b> What is SSH and what it is being used for?\n",
    "</p>\n",
    "</div>"
   ]
  },
  {
   "cell_type": "markdown",
   "metadata": {
    "scrolled": false
   },
   "source": []
  },
  {
   "cell_type": "markdown",
   "metadata": {
    "editable": false,
    "scrolled": false
   },
   "source": [
    "<div style=\"background-color:rgba(100, 160, 200, 0.33);\">\n",
    "<p>\n",
    "<b>b) [0.5 credits]</b> What is the difference between public-key and password authentication as offered by SSH?\n",
    "</p>\n",
    "</div>"
   ]
  },
  {
   "cell_type": "markdown",
   "metadata": {
    "scrolled": false
   },
   "source": []
  },
  {
   "cell_type": "markdown",
   "metadata": {
    "editable": false,
    "scrolled": false
   },
   "source": [
    "<div style=\"background-color:rgba(100, 160, 200, 0.33);\">\n",
    "<p>\n",
    "<b>c) [1.0 credits]</b>\n",
    "SSH can be used to connect to your personal VM and to clone your personal git repository.\n",
    "    \n",
    "You can connect to your personal VM using the command:\n",
    "<span style=\"font-family: monospace\">ssh -L localhost:1337:localhost:1337 root@svmNNN0.net.in.tum.de</span>, where <span style=\"font-family: monospace\">NNN</span> is your UID.\n",
    "Explain in detail what this command does.\n",
    "</p>\n",
    "</div>"
   ]
  },
  {
   "cell_type": "markdown",
   "metadata": {
    "scrolled": false
   },
   "source": [
    "<span style=\"color: #f00;\">ssh -L</span> <span style=\"color: #0a0;\">localhost:1337</span><span style=\"color: #00f;\">:localhost:1337</span> <span style=\"color: orange;\">root@</span><span style=\"color: #000;\">svmNNN0.net.in.tum.de</span>\n",
    "\n",
    "* <span style=\"color: #f00;\">ssh -L</span>\n",
    "\n",
    "* <span style=\"color: #0a0;\">localhost:1337</span>\n",
    "\n",
    "* <span style=\"color: #00f;\">:localhost:1337</span>\n",
    "\n",
    "* <span style=\"color: orange;\">root@</span>\n",
    "\n",
    "* <span style=\"color: #000;\">svmNNN0.net.in.tum.de</span>\n",
    "\n"
   ]
  },
  {
   "cell_type": "markdown",
   "metadata": {
    "editable": false,
    "scrolled": false
   },
   "source": [
    "<div style=\"background-color:rgba(100, 160, 200, 0.33);\">\n",
    "<p>\n",
    "<b>d) [1.0 credits]</b>\n",
    "Connect to your virtual machine using SSH and execute the following three commands:\n",
    "    \n",
    "* <span style=\"font-family: monospace\">whoami</span>\n",
    "* <span style=\"font-family: monospace\">uname -a</span>\n",
    "* <span style=\"font-family: monospace\">pwd</span>\n",
    "    \n",
    "Paste the output of each of the three commands into your answer and explain what each command does.\n",
    "</p>\n",
    "</div>"
   ]
  },
  {
   "cell_type": "markdown",
   "metadata": {
    "scrolled": false
   },
   "source": []
  },
  {
   "cell_type": "markdown",
   "metadata": {
    "editable": false,
    "scrolled": false
   },
   "source": [
    "<div style=\"background-color:rgba(100, 160, 200, 0.33);\">\n",
    "<h3>Problem 3 Jupyter Introduction (0.5 credits)</h3>\n",
    "\n",
    "<p>\n",
    "    We will shortly introduce <a href=\"https://jupyter.org/\">Jupyter</a> and its functionality:\n",
    "Jupyter is an interactive programming interface running in your browser. \n",
    "We use the interactive Python interface.\n",
    "</p>\n",
    "\n",
    "</div>"
   ]
  },
  {
   "cell_type": "markdown",
   "metadata": {
    "editable": false,
    "scrolled": false
   },
   "source": [
    "<div style=\"background-color:rgba(100, 160, 200, 0.33);\">\n",
    "<p>\n",
    "<b>a) [0.1 credits]</b> Jupyter notebooks consist of cells with different types, e.g., code and markdown. Explain the differences between those two types and what they can be used for.\n",
    "</p>\n",
    "</div>\n"
   ]
  },
  {
   "cell_type": "markdown",
   "metadata": {
    "scrolled": false
   },
   "source": []
  },
  {
   "cell_type": "markdown",
   "metadata": {
    "editable": false,
    "scrolled": false
   },
   "source": [
    "<div style=\"background-color:rgba(100, 160, 200, 0.33);\">\n",
    "<p>\n",
    "To run cells (run Python code or show layouted markdown) either press the \"Play/Run\" button on top of the page or press Shift+Enter.\n",
    "</p>\n",
    "</div>\n"
   ]
  },
  {
   "cell_type": "markdown",
   "metadata": {
    "scrolled": false
   },
   "source": [
    "<div style=\"background-color:rgba(217, 81, 23, 0.33);\">\n",
    "<p>\n",
    "Code type cells fail to execute when the content is not valid Python code. We use automated tests to validate your exercises. If your solution fails to execute due to syntax errors, the automated test will also fail. <b>Such hand-ins will be graded with 0 credits.</b> Therefore, always execute your solution at least once <b>on the provided virtual machine</b>. This way you can make sure the provided solution works in our environment.\n",
    "\n",
    "</div>"
   ]
  },
  {
   "cell_type": "markdown",
   "metadata": {
    "editable": false,
    "scrolled": false
   },
   "source": [
    "<div style=\"background-color:rgba(100, 160, 200, 0.33);\">\n",
    "<p>    \n",
    "<b>b) [0.1 credits]</b> The following cell contains the typical format for programming exercises. This function is used to test your solution. Never change the name and only insert code in between the following comments:\n",
    "<pre># begin insert code\n",
    "...\n",
    "your code goes here\n",
    "...\n",
    "# end insert code\n",
    "</pre> \n",
    "The <span style=\"font-family: monospace\">print</span> command will show your result in the cell output. \n",
    "</p>\n",
    "\n",
    "<p>\n",
    "Errors should never occur in your handed-in notebook.\n",
    "Fix this code by defining the <span style=\"font-family: monospace\">hello_world</span> variable, assigning it a value, and returning it.\n",
    "</p>\n",
    "</div>"
   ]
  },
  {
   "cell_type": "code",
   "execution_count": null,
   "metadata": {
    "scrolled": false
   },
   "outputs": [],
   "source": [
    "def hello_world_text():\n",
    "    # begin insert code\n",
    "    # end insert code\n",
    "    return None\n",
    "\n",
    "print(hello_world_text())"
   ]
  },
  {
   "cell_type": "markdown",
   "metadata": {
    "editable": false,
    "scrolled": false
   },
   "source": [
    "<div style=\"background-color:rgba(100, 160, 200, 0.33);\">\n",
    "<p>\n",
    "<b>d)</b> Code cells also allow to execute shell commands. These are executed as the user who started the jupyter server. \n",
    "    On your virtual machine this is <span style=\"font-family: monospace\">root</span>.\n",
    "    Shell commands can be executed by prefixing them with the '!' character.\n",
    "</p>\n",
    "</div>"
   ]
  },
  {
   "cell_type": "code",
   "execution_count": null,
   "metadata": {
    "scrolled": false
   },
   "outputs": [],
   "source": [
    "# just execute this cell\n",
    "!pwd  # the path where jupyter has been started\n",
    "!echo This user is executing the commands: $USER\n",
    "!ping -c 1 net.in.tum.de"
   ]
  },
  {
   "cell_type": "markdown",
   "metadata": {
    "editable": false,
    "scrolled": false
   },
   "source": [
    "<div style=\"background-color:rgba(100, 160, 200, 0.33);\">\n",
    "<p>\n",
    "<b>e)</b>\n",
    "In some exercise sheets we will use such shell commands to install missing Python modules.\n",
    "</p>\n",
    "</div>"
   ]
  },
  {
   "cell_type": "code",
   "execution_count": null,
   "metadata": {
    "scrolled": false
   },
   "outputs": [],
   "source": [
    "!pip3 install matplotlib"
   ]
  },
  {
   "cell_type": "markdown",
   "metadata": {
    "editable": false,
    "scrolled": false
   },
   "source": [
    "<div style=\"background-color:rgba(100, 160, 200, 0.33);\">\n",
    "<p>\n",
    "In order to visualize measurement data tools such as <span style=\"font-family: monospace\">matplotlib</span> are very useful.\n",
    "Jupyter notebook supports inline presentation of <span style=\"font-family: monospace\">matplotlib</span> plots.\n",
    "This is a convenient way to visualize data.\n",
    "</p>\n",
    "</div>"
   ]
  },
  {
   "cell_type": "markdown",
   "metadata": {
    "editable": false,
    "scrolled": false
   },
   "source": [
    "<div style=\"background-color:rgba(100, 160, 200, 0.33);\">\n",
    "<p>\n",
    "In this exercise you can see how matplotlib is used. Just execute the first cell. It should show you a histogram of datapoints following a normal distribution.\n",
    "</p>\n",
    "</div>"
   ]
  },
  {
   "cell_type": "code",
   "execution_count": null,
   "metadata": {
    "scrolled": false
   },
   "outputs": [],
   "source": [
    "# This enables inline plots\n",
    "%matplotlib inline\n",
    "\n",
    "# Example taken from https://matplotlib.org/3.1.1/gallery/statistics/histogram_features.html\n",
    "\n",
    "import numpy as np\n",
    "import matplotlib.pyplot as plt\n",
    "\n",
    "# example data\n",
    "mu = 0  # mean of distribution\n",
    "sigma = 1  # standard deviation of distribution\n",
    "x = mu + sigma * np.random.randn(10000) # 10k data samples\n",
    "\n",
    "num_bins = 50\n",
    "\n",
    "fig, ax = plt.subplots()\n",
    "\n",
    "# the histogram of the data\n",
    "counts, bins, patches = ax.hist(x, num_bins)\n",
    "\n",
    "ax.set_xlabel('Value')\n",
    "ax.set_ylabel('Count')\n",
    "ax.set_title(r'Histogram of a normal distribution: $\\mu=0$, $\\sigma=1$')\n",
    "\n",
    "plt.show()"
   ]
  },
  {
   "cell_type": "markdown",
   "metadata": {
    "editable": false,
    "scrolled": false
   },
   "source": [
    "<div style=\"background-color:rgba(100, 160, 200, 0.33);\">\n",
    "<p>\n",
    "<b>f) [0.3 credits]</b>\n",
    "Use the data from the previous cell to produce a CDF.\n",
    "(<a href=\"https://matplotlib.org/stable/api/_as_gen/matplotlib.pyplot.hist.html\">This</a> and <a href=\"https://en.wikipedia.org/wiki/Cumulative_distribution_function\">this</a> might help you)\n",
    "</p>\n",
    "</div>"
   ]
  },
  {
   "cell_type": "code",
   "execution_count": null,
   "metadata": {
    "scrolled": false
   },
   "outputs": [],
   "source": [
    "fig, ax = plt.subplots()\n",
    "\n",
    "# begin insert code\n",
    "# end insert code\n",
    "\n",
    "ax.set_xlabel('Value')\n",
    "ax.set_ylabel('Cumulated Probability')\n",
    "ax.set_title(r'CDF of normal distribution: $\\mu=0$, $\\sigma=1$')\n",
    "\n",
    "plt.show()"
   ]
  },
  {
   "cell_type": "markdown",
   "metadata": {
    "editable": false,
    "scrolled": false
   },
   "source": [
    "<div style=\"background-color:rgba(100, 160, 200, 0.33);\">\n",
    "<p><b>Advanced Computer Networking by Prof. Dr.-Ing. Georg Carle</b></p>\n",
    "<p>Teaching assistants: Sebastian Gallenmüller, Benedikt Jaeger, Max Helm, Patrick Sattler, Johannes Zirngibl</p>\n",
    "</div>"
   ]
  }
 ],
 "metadata": {
  "kernelspec": {
   "display_name": "Python 3",
   "language": "python",
   "name": "python3"
  },
  "language_info": {
   "codemirror_mode": {
    "name": "ipython",
    "version": 3
   },
   "file_extension": ".py",
   "mimetype": "text/x-python",
   "name": "python",
   "nbconvert_exporter": "python",
   "pygments_lexer": "ipython3",
   "version": "3.9.12"
  }
 },
 "nbformat": 4,
 "nbformat_minor": 2
}