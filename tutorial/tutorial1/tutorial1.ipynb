{
 "cells": [
  {
   "cell_type": "markdown",
   "metadata": {
    "editable": false,
    "scrolled": false
   },
   "source": [
    "<div style=\"background-color:rgba(100, 160, 200, 0.33);\">\n",
    "\n",
    "<h1>Tutorial 1 - Introduction</h1>\n",
    "\n",
    "<p>\n",
    "Submission process:\n",
    "</p>\n",
    "<ul>\n",
    "<li>Submission deadline is November 3, 14:00 CET (before the lecture) .</li>\n",
    "<li>Commit and push your solution as single notebook file via git as <span style=\"font-family: monospace\">./tutorial1/tutorial1.ipynb</span>. Please take care of the correct subfolder/filename since submission is denied otherwise.</li>\n",
    "<li>During the first lecture after the deadline we will discuss a sample solution in class.</li>\n",
    "<li>Afterwards, you have time until November 10, 14:00 CET (before the lecture) to submit a corrected version of your submission:</li>\n",
    "<ol>\n",
    "  <li>Rework your solution according to our discussion in class.</li>\n",
    "  <li>Commit and push the corrected version as single file via git as <span style=\"font-family: monospace\">./tutorial1/tutorial1.ipynb</span>. Please take care of the correct filename since submission is denied otherwise.</li>\n",
    "</ol>\n",
    "</ul>\n",
    "\n",
    "<p>\n",
    "Remarks:\n",
    "</p>\n",
    "<ul>\n",
    "<li>Grading is done based on both versions of your submission.</li>\n",
    "<li>If the first submission is missing your submission will not be graded.</li>\n",
    "<li>If the second submission contains major flaws after revision not more than half of the credits for this tutorial can be achieved.</li>\n",
    "<li>A sample solution is provided after November 10, 14:00 CET eventually.</li>\n",
    "<li>\n",
    "Please use <a href=\"mailto:acn@net.in.tum.de\">acn@net.in.tum.de</a> for questions regarding lecture, tutorial, and project of ACN.\n",
    "</li>\n",
    "</ul>\n",
    "</div>"
   ]
  },
  {
   "cell_type": "markdown",
   "metadata": {
    "editable": false,
    "scrolled": false
   },
   "source": [
    "<div style=\"background-color:rgba(100, 160, 200, 0.33);\">\n",
    "<h3>Problem 1 GIT Access [1.5 credits]</h3>\n",
    "\n",
    "<p>\n",
    "This exercise should make you familiar with the git repositories.\n",
    "</p>\n",
    "\n",
    "</div>"
   ]
  },
  {
   "cell_type": "markdown",
   "metadata": {
    "editable": false,
    "scrolled": false
   },
   "source": [
    "<div style=\"background-color:rgba(100, 160, 200, 0.33);\">\n",
    "<p>\n",
    "Git is a distributed version control system, originally developed by Linus Torvalds for maintaining the Linux kernel.\n",
    "It became popular in professional software development over the past few years due its features, stability, and efficiency.\n",
    "We use git in this course as a version control system for both submissions of exercises as well as the project, i.e., we provide you with a git repository structure hosted on the LRZ Gitlab.\n",
    "You can <span style=\"font-family: monospace\">clone</span> your repository and <span style=\"font-family: monospace\">push</span> changes to the server using SSH or HTTPS with or without a deploy token.\n",
    "</p>\n",
    "</div>"
   ]
  },
  {
   "cell_type": "markdown",
   "metadata": {
    "editable": false,
    "scrolled": false
   },
   "source": [
    "<div style=\"background-color:rgba(100, 160, 200, 0.33);\">\n",
    "<p>\n",
    "<b>a) [0.5 credits]</b>\n",
    "Explain the differences between the git commands <span style=\"font-family: monospace\">add</span>, <span style=\"font-family: monospace\">commit</span>, and <span style=\"font-family: monospace\">push</span>.\n",
    "</p>\n",
    "</div>"
   ]
  },
  {
   "cell_type": "markdown",
   "metadata": {
    "scrolled": false
   },
   "source": [
    "`git add`: This command adds file changes to the so-called \"staging area\". Staged changes will be considered when creating a commit (see below).\n",
    "\n",
    "`git commit`: This command creates a commit of all staged changes, saving all changes as a separate entity in the git history.\n",
    "\n",
    "`git push`: This command tries to \"push\" all local commits to the git server that is set as an origin."
   ]
  },
  {
   "cell_type": "markdown",
   "metadata": {
    "editable": false,
    "scrolled": false
   },
   "source": [
    "<div style=\"background-color:rgba(100, 160, 200, 0.33);\">\n",
    "<p>\n",
    "<b>b) [0.5 credits]</b>\n",
    "Save your current changes to this Jupyter notebook.\n",
    "Add the file to a new commit and push to remote, the pull again.\n",
    "Execute the command <span style=\"font-family: monospace\">git tag</span> and paste the output here.\n",
    "    \n",
    "Explain the meaning of the output.\n",
    "</p>\n",
    "</div>"
   ]
  },
  {
   "cell_type": "markdown",
   "metadata": {
    "scrolled": false
   },
   "source": [
    "Output:\n",
    "submission/1666871743\n",
    "submission/1667043366\n",
    "\n",
    "Explanation:\n",
    "The project has integrated some kind of automation which creates tags for each submission as soon as they are added to the server (in our case, we have two tags, one for the merge of the remote tutorial branch and one for adding the partial solution of task 1 a).\n",
    "According to the [git documentation for tagging](https://git-scm.com/book/en/v2/Git-Basics-Tagging), tags are usually used to mark specific points in the history (like release versions) as important. In this case here, tags are probably used for tracking purposes."
   ]
  },
  {
   "cell_type": "markdown",
   "metadata": {
    "editable": false,
    "scrolled": false
   },
   "source": [
    "<div style=\"background-color:rgba(100, 160, 200, 0.33);\">\n",
    "<p>\n",
    "<b>c) [0.5 credits]</b>\n",
    "    Create and push a new branch called <span style=\"font-family: monospace\">grades</span>.\n",
    "    Paste the commands used to do so into your answer.\n",
    "    Explain what happens.\n",
    "</p>\n",
    "</div>"
   ]
  },
  {
   "cell_type": "markdown",
   "metadata": {
    "scrolled": false
   },
   "source": [
    "Commands used:\n",
    "`git branch grades` (creates a local branch called grades)\n",
    "`git checkout grades` (switches the local active branch to the branch grades)\n",
    "`git push` (tries to push the local branch to the remote repository)\n",
    "\n",
    "What happens:\n",
    "The command failes as Gitlab returns the following error message: `You are not allowed to create protected branches on this project.`\n",
    "This is because I only have Developer access to the Repository and Gitlab by default does not allow Developers to create a new branch in a project."
   ]
  },
  {
   "cell_type": "markdown",
   "metadata": {
    "editable": false,
    "scrolled": false
   },
   "source": [
    "<div style=\"background-color:rgba(100, 160, 200, 0.33);\">\n",
    "<h3>Problem 2 SSH and Virtual Machine (VM) Access [3.0 credits]</h3>\n",
    "\n",
    "<p>\n",
    "If you can see this notebook you probably followed directions from the <a href=\"https://acn.net.in.tum.de/exercise/instructions.pdf\">infrastructure introduction</a>.\n",
    "To hand in your answers, please write them down in the prepared cells.\n",
    "</p>\n",
    "\n",
    "</div>"
   ]
  },
  {
   "cell_type": "markdown",
   "metadata": {
    "editable": false,
    "scrolled": false
   },
   "source": [
    "<div style=\"background-color:rgba(100, 160, 200, 0.33);\">\n",
    "<p>\n",
    "<b>a) [0.5 credits]</b> What is SSH and what it is being used for?\n",
    "</p>\n",
    "</div>"
   ]
  },
  {
   "cell_type": "markdown",
   "metadata": {
    "scrolled": false
   },
   "source": [
    "SSH (Secure Shell Protocol) is a network protocol designed for controlling machines/other services connected to the network remotely. As the name suggests, SSH is \"secure\", so communication is encrypted.\n",
    "The protocol is usually used for controlling the command line of other machines over the network."
   ]
  },
  {
   "cell_type": "markdown",
   "metadata": {
    "editable": false,
    "scrolled": false
   },
   "source": [
    "<div style=\"background-color:rgba(100, 160, 200, 0.33);\">\n",
    "<p>\n",
    "<b>b) [0.5 credits]</b> What is the difference between public-key and password authentication as offered by SSH?\n",
    "</p>\n",
    "</div>"
   ]
  },
  {
   "cell_type": "markdown",
   "metadata": {
    "scrolled": false
   },
   "source": [
    "Public-key authentication: With public-key authentication, the user generates a public and private key pair. The public key is then uploaded to the machine the user wants to connect to. When connecting, the public key on the remote machine and the private key on the local machine can be used to authenticate each other.\n",
    "\n",
    "Password authentication: With password authentication, the remote server asks for the password of the login the user wants to connect to. To ensure that the connection is still encrypted, a key pair is generated automatically which is exchanged on the first connection."
   ]
  },
  {
   "cell_type": "markdown",
   "metadata": {
    "editable": false,
    "scrolled": false
   },
   "source": [
    "<div style=\"background-color:rgba(100, 160, 200, 0.33);\">\n",
    "<p>\n",
    "<b>c) [1.0 credits]</b>\n",
    "SSH can be used to connect to your personal VM and to clone your personal git repository.\n",
    "    \n",
    "You can connect to your personal VM using the command:\n",
    "<span style=\"font-family: monospace\">ssh -L localhost:1337:localhost:1337 root@svmNNN0.net.in.tum.de</span>, where <span style=\"font-family: monospace\">NNN</span> is your UID.\n",
    "Explain in detail what this command does.\n",
    "</p>\n",
    "</div>"
   ]
  },
  {
   "cell_type": "markdown",
   "metadata": {
    "scrolled": false
   },
   "source": [
    "<span style=\"color: #f00;\">ssh -L</span> <span style=\"color: #0a0;\">localhost:1337</span><span style=\"color: #00f;\">:localhost:1337</span> <span style=\"color: orange;\">root@</span><span style=\"color: #000;\">svmNNN0.net.in.tum.de</span>\n",
    "\n",
    "* <span style=\"color: #f00;\">ssh -L</span>: Start the ssh binary while specifying the -L flag (forwarding) as a next argument\n",
    "\n",
    "* <span style=\"color: #0a0;\">localhost:1337</span>: The is the \"bind address\" and the \"port\". It allocates a socket to the specified address and port and will forward any connections to this socket to the remote machine.\n",
    "\n",
    "* <span style=\"color: #00f;\">:localhost:1337</span>: This is the address and port of the remote machine to which socket connections of the local machine are forwarded to.\n",
    "\n",
    "* <span style=\"color: orange;\">root@</span>: This specifies the user of the remote machine we want to login to.\n",
    "\n",
    "* <span style=\"color: #000;\">svmNNN0.net.in.tum.de</span>: This is the address of the remote machine we want to connect to.\n",
    "\n"
   ]
  },
  {
   "cell_type": "markdown",
   "metadata": {
    "editable": false,
    "scrolled": false
   },
   "source": [
    "<div style=\"background-color:rgba(100, 160, 200, 0.33);\">\n",
    "<p>\n",
    "<b>d) [1.0 credits]</b>\n",
    "Connect to your virtual machine using SSH and execute the following three commands:\n",
    "    \n",
    "* <span style=\"font-family: monospace\">whoami</span>\n",
    "* <span style=\"font-family: monospace\">uname -a</span>\n",
    "* <span style=\"font-family: monospace\">pwd</span>\n",
    "    \n",
    "Paste the output of each of the three commands into your answer and explain what each command does.\n",
    "</p>\n",
    "</div>"
   ]
  },
  {
   "cell_type": "markdown",
   "source": [
    "`whoami`\n",
    "Output: root\n",
    "\n",
    "Explanation: whoami prints the username of the current active user to the command line. As we logged into the root account of the vm, this is equal to the root user.\n",
    "\n",
    "`uname -a`\n",
    "Output: Linux svm0245 5.10.0-18-amd64 #1 SMP Debian 5.10.140-1 (2022-09-02) x86_64 GNU/Linux\n",
    "\n",
    "Explanation: uname displays information about the system (in this case the vm). The -a flag specifies, that all information the uname command has access to should be displayed at once. In our case, this shows basic system information like operating system, type of the hardware platform etc. of the vm.\n",
    "\n",
    "`pwd`\n",
    "Output: /root\n",
    "\n",
    "Explanation: pwd stands for \"print working directory\", and as the name suggests, it prints the current active working directory to the command line. In this case, this is equal to /root as we are logged into the root user and /root is its home directory."
   ],
   "metadata": {
    "collapsed": false
   }
  },
  {
   "cell_type": "markdown",
   "metadata": {
    "editable": false,
    "scrolled": false
   },
   "source": [
    "<div style=\"background-color:rgba(100, 160, 200, 0.33);\">\n",
    "<h3>Problem 3 Jupyter Introduction (0.5 credits)</h3>\n",
    "\n",
    "<p>\n",
    "    We will shortly introduce <a href=\"https://jupyter.org/\">Jupyter</a> and its functionality:\n",
    "Jupyter is an interactive programming interface running in your browser. \n",
    "We use the interactive Python interface.\n",
    "</p>\n",
    "\n",
    "</div>"
   ]
  },
  {
   "cell_type": "markdown",
   "metadata": {
    "editable": false,
    "scrolled": false
   },
   "source": [
    "<div style=\"background-color:rgba(100, 160, 200, 0.33);\">\n",
    "<p>\n",
    "<b>a) [0.1 credits]</b> Jupyter notebooks consist of cells with different types, e.g., code and markdown. Explain the differences between those two types and what they can be used for.\n",
    "</p>\n",
    "</div>\n"
   ]
  },
  {
   "cell_type": "markdown",
   "metadata": {
    "scrolled": false
   },
   "source": [
    "Code cell: The code cell contains executable Python code. It can be used for adding code to the notebook which can be executed on demand and the output of the code can be seen below.\n",
    "\n",
    "Markdown cell: The markdown cell contains text which can be formatted by markdown. It is static and can be used to embed explanations of the code in the notebook."
   ]
  },
  {
   "cell_type": "markdown",
   "metadata": {
    "editable": false,
    "scrolled": false
   },
   "source": [
    "<div style=\"background-color:rgba(100, 160, 200, 0.33);\">\n",
    "<p>\n",
    "To run cells (run Python code or show layouted markdown) either press the \"Play/Run\" button on top of the page or press Shift+Enter.\n",
    "</p>\n",
    "</div>\n"
   ]
  },
  {
   "cell_type": "markdown",
   "metadata": {
    "scrolled": false
   },
   "source": [
    "<div style=\"background-color:rgba(217, 81, 23, 0.33);\">\n",
    "<p>\n",
    "Code type cells fail to execute when the content is not valid Python code. We use automated tests to validate your exercises. If your solution fails to execute due to syntax errors, the automated test will also fail. <b>Such hand-ins will be graded with 0 credits.</b> Therefore, always execute your solution at least once <b>on the provided virtual machine</b>. This way you can make sure the provided solution works in our environment.\n",
    "\n",
    "</div>"
   ]
  },
  {
   "cell_type": "markdown",
   "metadata": {
    "editable": false,
    "scrolled": false
   },
   "source": [
    "<div style=\"background-color:rgba(100, 160, 200, 0.33);\">\n",
    "<p>    \n",
    "<b>b) [0.1 credits]</b> The following cell contains the typical format for programming exercises. This function is used to test your solution. Never change the name and only insert code in between the following comments:\n",
    "<pre># begin insert code\n",
    "...\n",
    "your code goes here\n",
    "...\n",
    "# end insert code\n",
    "</pre> \n",
    "The <span style=\"font-family: monospace\">print</span> command will show your result in the cell output. \n",
    "</p>\n",
    "\n",
    "<p>\n",
    "Errors should never occur in your handed-in notebook.\n",
    "Fix this code by defining the <span style=\"font-family: monospace\">hello_world</span> variable, assigning it a value, and returning it.\n",
    "</p>\n",
    "</div>"
   ]
  },
  {
   "cell_type": "code",
   "execution_count": 1,
   "metadata": {
    "scrolled": false
   },
   "outputs": [
    {
     "name": "stdout",
     "output_type": "stream",
     "text": [
      "Hello world\n"
     ]
    }
   ],
   "source": [
    "def hello_world_text():\n",
    "    # begin insert code\n",
    "    hello_world = \"Hello world\"\n",
    "    return hello_world\n",
    "    # end insert code\n",
    "    return None\n",
    "\n",
    "print(hello_world_text())"
   ]
  },
  {
   "cell_type": "markdown",
   "metadata": {
    "editable": false,
    "scrolled": false
   },
   "source": [
    "<div style=\"background-color:rgba(100, 160, 200, 0.33);\">\n",
    "<p>\n",
    "<b>d)</b> Code cells also allow to execute shell commands. These are executed as the user who started the jupyter server. \n",
    "    On your virtual machine this is <span style=\"font-family: monospace\">root</span>.\n",
    "    Shell commands can be executed by prefixing them with the '!' character.\n",
    "</p>\n",
    "</div>"
   ]
  },
  {
   "cell_type": "code",
   "execution_count": 2,
   "metadata": {
    "scrolled": false
   },
   "outputs": [
    {
     "name": "stdout",
     "output_type": "stream",
     "text": [
      "/Users/simonpannek/Library/CloudStorage/OneDrive-Personal/Studium/Master/Elective Modules Informatics/2223 WS/Advanced Computer Networking (IN2097)/Repositories/svm0245/tutorial/tutorial1\r\n",
      "This user is executing the commands: simonpannek\r\n",
      "PING net.in.tum.de (131.159.15.24): 56 data bytes\r\n",
      "64 bytes from 131.159.15.24: icmp_seq=0 ttl=53 time=124.678 ms\r\n",
      "\r\n",
      "--- net.in.tum.de ping statistics ---\r\n",
      "1 packets transmitted, 1 packets received, 0.0% packet loss\r\n",
      "round-trip min/avg/max/stddev = 124.678/124.678/124.678/0.000 ms\r\n"
     ]
    }
   ],
   "source": [
    "# just execute this cell\n",
    "!pwd  # the path where jupyter has been started\n",
    "!echo This user is executing the commands: $USER\n",
    "!ping -c 1 net.in.tum.de"
   ]
  },
  {
   "cell_type": "markdown",
   "metadata": {
    "editable": false,
    "scrolled": false
   },
   "source": [
    "<div style=\"background-color:rgba(100, 160, 200, 0.33);\">\n",
    "<p>\n",
    "<b>e)</b>\n",
    "In some exercise sheets we will use such shell commands to install missing Python modules.\n",
    "</p>\n",
    "</div>"
   ]
  },
  {
   "cell_type": "code",
   "execution_count": 3,
   "metadata": {
    "scrolled": false
   },
   "outputs": [
    {
     "name": "stdout",
     "output_type": "stream",
     "text": [
      "Requirement already satisfied: matplotlib in ./venv/lib/python3.9/site-packages (3.6.1)\r\n",
      "Requirement already satisfied: python-dateutil>=2.7 in ./venv/lib/python3.9/site-packages (from matplotlib) (2.8.2)\r\n",
      "Requirement already satisfied: pillow>=6.2.0 in ./venv/lib/python3.9/site-packages (from matplotlib) (9.3.0)\r\n",
      "Requirement already satisfied: fonttools>=4.22.0 in ./venv/lib/python3.9/site-packages (from matplotlib) (4.38.0)\r\n",
      "Requirement already satisfied: numpy>=1.19 in ./venv/lib/python3.9/site-packages (from matplotlib) (1.23.4)\r\n",
      "Requirement already satisfied: pyparsing>=2.2.1 in ./venv/lib/python3.9/site-packages (from matplotlib) (3.0.9)\r\n",
      "Requirement already satisfied: kiwisolver>=1.0.1 in ./venv/lib/python3.9/site-packages (from matplotlib) (1.4.4)\r\n",
      "Requirement already satisfied: packaging>=20.0 in ./venv/lib/python3.9/site-packages (from matplotlib) (21.3)\r\n",
      "Requirement already satisfied: cycler>=0.10 in ./venv/lib/python3.9/site-packages (from matplotlib) (0.11.0)\r\n",
      "Requirement already satisfied: contourpy>=1.0.1 in ./venv/lib/python3.9/site-packages (from matplotlib) (1.0.6)\r\n",
      "Requirement already satisfied: six>=1.5 in ./venv/lib/python3.9/site-packages (from python-dateutil>=2.7->matplotlib) (1.16.0)\r\n"
     ]
    }
   ],
   "source": [
    "!pip3 install matplotlib"
   ]
  },
  {
   "cell_type": "markdown",
   "metadata": {
    "editable": false,
    "scrolled": false
   },
   "source": [
    "<div style=\"background-color:rgba(100, 160, 200, 0.33);\">\n",
    "<p>\n",
    "In order to visualize measurement data tools such as <span style=\"font-family: monospace\">matplotlib</span> are very useful.\n",
    "Jupyter notebook supports inline presentation of <span style=\"font-family: monospace\">matplotlib</span> plots.\n",
    "This is a convenient way to visualize data.\n",
    "</p>\n",
    "</div>"
   ]
  },
  {
   "cell_type": "markdown",
   "metadata": {
    "editable": false,
    "scrolled": false
   },
   "source": [
    "<div style=\"background-color:rgba(100, 160, 200, 0.33);\">\n",
    "<p>\n",
    "In this exercise you can see how matplotlib is used. Just execute the first cell. It should show you a histogram of datapoints following a normal distribution.\n",
    "</p>\n",
    "</div>"
   ]
  },
  {
   "cell_type": "code",
   "execution_count": 4,
   "metadata": {
    "scrolled": false
   },
   "outputs": [
    {
     "data": {
      "text/plain": "<Figure size 640x480 with 1 Axes>",
      "image/png": "[encoded data removed]"
     },
     "metadata": {},
     "output_type": "display_data"
    }
   ],
   "source": [
    "# This enables inline plots\n",
    "%matplotlib inline\n",
    "\n",
    "# Example taken from https://matplotlib.org/3.1.1/gallery/statistics/histogram_features.html\n",
    "\n",
    "import numpy as np\n",
    "import matplotlib.pyplot as plt\n",
    "\n",
    "# example data\n",
    "mu = 0  # mean of distribution\n",
    "sigma = 1  # standard deviation of distribution\n",
    "x = mu + sigma * np.random.randn(10000) # 10k data samples\n",
    "\n",
    "num_bins = 50\n",
    "\n",
    "fig, ax = plt.subplots()\n",
    "\n",
    "# the histogram of the data\n",
    "counts, bins, patches = ax.hist(x, num_bins)\n",
    "\n",
    "ax.set_xlabel('Value')\n",
    "ax.set_ylabel('Count')\n",
    "ax.set_title(r'Histogram of a normal distribution: $\\mu=0$, $\\sigma=1$')\n",
    "\n",
    "plt.show()"
   ]
  },
  {
   "cell_type": "markdown",
   "metadata": {
    "editable": false,
    "scrolled": false
   },
   "source": [
    "<div style=\"background-color:rgba(100, 160, 200, 0.33);\">\n",
    "<p>\n",
    "<b>f) [0.3 credits]</b>\n",
    "Use the data from the previous cell to produce a CDF.\n",
    "(<a href=\"https://matplotlib.org/stable/api/_as_gen/matplotlib.pyplot.hist.html\">This</a> and <a href=\"https://en.wikipedia.org/wiki/Cumulative_distribution_function\">this</a> might help you)\n",
    "</p>\n",
    "</div>"
   ]
  },
  {
   "cell_type": "code",
   "execution_count": 5,
   "metadata": {
    "scrolled": false
   },
   "outputs": [
    {
     "data": {
      "text/plain": "<Figure size 640x480 with 1 Axes>",
      "image/png": "[encoded data removed]"
     },
     "metadata": {},
     "output_type": "display_data"
    }
   ],
   "source": [
    "fig, ax = plt.subplots()\n",
    "\n",
    "# begin insert code\n",
    "ax.hist(x, num_bins, cumulative=True, density=True)\n",
    "# end insert code\n",
    "\n",
    "ax.set_xlabel('Value')\n",
    "ax.set_ylabel('Cumulated Probability')\n",
    "ax.set_title(r'CDF of normal distribution: $\\mu=0$, $\\sigma=1$')\n",
    "\n",
    "plt.show()"
   ]
  },
  {
   "cell_type": "markdown",
   "metadata": {
    "editable": false,
    "scrolled": false
   },
   "source": [
    "<div style=\"background-color:rgba(100, 160, 200, 0.33);\">\n",
    "<p><b>Advanced Computer Networking by Prof. Dr.-Ing. Georg Carle</b></p>\n",
    "<p>Teaching assistants: Sebastian Gallenmüller, Benedikt Jaeger, Max Helm, Patrick Sattler, Johannes Zirngibl</p>\n",
    "</div>"
   ]
  }
 ],
 "metadata": {
  "kernelspec": {
   "display_name": "Python 3",
   "language": "python",
   "name": "python3"
  },
  "language_info": {
   "codemirror_mode": {
    "name": "ipython",
    "version": 3
   },
   "file_extension": ".py",
   "mimetype": "text/x-python",
   "name": "python",
   "nbconvert_exporter": "python",
   "pygments_lexer": "ipython3",
   "version": "3.9.12"
  }
 },
 "nbformat": 4,
 "nbformat_minor": 2
}