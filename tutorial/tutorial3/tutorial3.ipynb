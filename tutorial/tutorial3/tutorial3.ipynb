{
 "cells": [
  {
   "cell_type": "markdown",
   "metadata": {
    "editable": false,
    "scrolled": false
   },
   "source": [
    "<div style=\"background-color:rgba(100, 160, 200, 0.33);\">\n",
    "\n",
    "<h1>Tutorial 3 - Wireshark, Spanning Tree, and Traceroute</h1>\n",
    "\n",
    "<p>\n",
    "Submission process:\n",
    "</p>\n",
    "<ul>\n",
    "<li>Submission deadline is December 06, 16:00 CET (before the lecture) .</li>\n",
    "<li>Commit and push your solution as single notebook file via git as <span style=\"font-family: monospace\">./tutorial/tutorial3/tutorial3.ipynb</span>. Please take care of the correct subfolder/filename since submission is denied otherwise.</li>\n",
    "<li>During the first lecture after the deadline we will discuss a sample solution in class.</li>\n",
    "<li>Afterwards, you have time until December 13, 16:00 CET (before the lecture) to submit a corrected version of your submission:</li>\n",
    "<ol>\n",
    "  <li>Rework your solution according to our discussion in class.</li>\n",
    "  <li>Commit and push the corrected version as single file via git as <span style=\"font-family: monospace\">./tutorial/tutorial3/tutorial3.ipynb</span>. Please take care of the correct filename since submission is denied otherwise.</li>\n",
    "</ol>\n",
    "</ul>\n",
    "\n",
    "<p>\n",
    "Remarks:\n",
    "</p>\n",
    "<ul>\n",
    "<li>Grading is done based on both versions of your submission.</li>\n",
    "<li>If the first submission is missing your submission will not be graded.</li>\n",
    "<li>If the second submission contains major flaws after revision not more than half of the credits for this tutorial can be achieved.</li>\n",
    "<li>A sample solution is provided after December 13, 16:00 CET eventually.</li>\n",
    "<li>\n",
    "Please use <a href=\"mailto:acn@net.in.tum.de\">acn@net.in.tum.de</a> for questions regarding lecture, tutorial, and project of ACN.\n",
    "</li>\n",
    "</ul>\n",
    "</div>"
   ]
  },
  {
   "cell_type": "markdown",
   "metadata": {
    "editable": false,
    "scrolled": false
   },
   "source": [
    "<div style=\"background-color:rgba(100, 160, 200, 0.33);\">\n",
    "<h3>Problem 1 Wireshark (5 credits)</h3>\n",
    "\n",
    "<p>\n",
    "We consider the following hexdumps. It is known that these dumps represent Ethernet (IEEE 802.3u) frames including L2 headers but without FCS. In the following, we will dissect the whole frames.\n",
    "</p>\n",
    "\n",
    "<p>To print the hexdump we use the <span style=\"font-family: monospace\">hexdump</span> Python module,\n",
    "    which is not installed by default. Run the following cell to install it.\n",
    "</p>\n",
    "</div>"
   ]
  },
  {
   "cell_type": "code",
   "execution_count": 199,
   "metadata": {
    "scrolled": false
   },
   "outputs": [
    {
     "name": "stdout",
     "output_type": "stream",
     "text": [
      "Requirement already satisfied: hexdump in ./venv/lib/python3.9/site-packages (3.3)\r\n"
     ]
    }
   ],
   "source": [
    "!pip3 install hexdump"
   ]
  },
  {
   "cell_type": "code",
   "execution_count": 200,
   "metadata": {
    "scrolled": false
   },
   "outputs": [
    {
     "name": "stdout",
     "output_type": "stream",
     "text": [
      "IPv4 packet:\n",
      "00000000: FC E9 98 97 EC EA 44 D9  E7 00 40 01 08 00 45 00  ......D...@...E.\n",
      "00000010: 00 38 00 00 00 00 F1 01  8C 2B 3E 9A 59 2E AC 13  .8.......+>.Y...\n",
      "00000020: F9 BD 0B 00 BF 50 00 00  00 00 45 00 00 3C 15 B2  .....P....E..<..\n",
      "00000030: 00 00 01 11 EA 81 AC 13  F9 BD 81 BB 91 F1 D4 0F  ................\n",
      "00000040: 82 BE 00 28 DE B8                                 ...(..\n",
      "\n",
      "IPv6 packet:\n",
      "00000000: 33 33 FF D7 6D A0 90 E2  BA 7A A7 34 86 DD 60 00  33..m....z.4..`.\n",
      "00000010: 00 00 00 20 3A FF FE 80  00 00 00 00 00 00 02 25  ... :..........%\n",
      "00000020: 90 FF FE 54 73 9A FF 02  00 00 00 00 00 00 00 00  ...Ts...........\n",
      "00000030: 00 01 FF D7 6D A0 87 00  19 C9 00 00 00 00 20 01  ....m......... .\n",
      "00000040: 4C A0 20 01 00 11 02 25  90 FF FE D7 6D A0 01 01  L. ....%....m...\n",
      "00000050: 00 25 90 54 73 9A                                 .%.Ts.\n"
     ]
    }
   ],
   "source": [
    "import binascii\n",
    "from hexdump import hexdump\n",
    "\n",
    "def prtyprnt(dump):\n",
    "    hexdump(dump)\n",
    "    \n",
    "# Here is an example how you can compare fields of a bytearray\n",
    "# bytearray(b'\\x01\\x02\\x03\\x04')[2:4] == bytearray(b'\\x03\\x04')\n",
    "\n",
    "dump_ipv4 = bytearray(b'\\xfc\\xe9\\x98\\x97\\xec\\xea\\x44\\xd9\\xe7\\x00\\x40\\x01\\x08\\x00\\x45\\x00\\x00\\x38\\x00\\x00\\x00\\x00\\xf1\\x01\\x8c\\x2b\\x3e\\x9a\\x59\\x2e\\xac\\x13\\xf9\\xbd\\x0b\\x00\\xbf\\x50\\x00\\x00\\x00\\x00\\x45\\x00\\x00\\x3c\\x15\\xb2\\x00\\x00\\x01\\x11\\xea\\x81\\xac\\x13\\xf9\\xbd\\x81\\xbb\\x91\\xf1\\xd4\\x0f\\x82\\xbe\\x00\\x28\\xde\\xb8')\n",
    "dump_ipv6 = bytearray(b'\\x33\\x33\\xff\\xd7\\x6d\\xa0\\x90\\xe2\\xba\\x7a\\xa7\\x34\\x86\\xdd\\x60\\x00\\x00\\x00\\x00\\x20\\x3a\\xff\\xfe\\x80\\x00\\x00\\x00\\x00\\x00\\x00\\x02\\x25\\x90\\xff\\xfe\\x54\\x73\\x9a\\xff\\x02\\x00\\x00\\x00\\x00\\x00\\x00\\x00\\x00\\x00\\x01\\xff\\xd7\\x6d\\xa0\\x87\\x00\\x19\\xc9\\x00\\x00\\x00\\x00\\x20\\x01\\x4c\\xa0\\x20\\x01\\x00\\x11\\x02\\x25\\x90\\xff\\xfe\\xd7\\x6d\\xa0\\x01\\x01\\x00\\x25\\x90\\x54\\x73\\x9a')\n",
    "\n",
    "\n",
    "\n",
    "                    \n",
    "print('IPv4 packet:')\n",
    "prtyprnt(dump_ipv4)\n",
    "print('\\nIPv6 packet:')\n",
    "prtyprnt(dump_ipv6)"
   ]
  },
  {
   "cell_type": "markdown",
   "metadata": {
    "editable": false,
    "scrolled": false
   },
   "source": [
    "<div style=\"background-color:rgba(100, 160, 200, 0.33);\">\n",
    "<p>\n",
    "<b>a) [0.5 credits]</b> Briefly explain which purpose the FCS serves and how it is computed.\n",
    "</p>\n",
    "</div>"
   ]
  },
  {
   "cell_type": "markdown",
   "metadata": {
    "scrolled": false
   },
   "source": [
    "The Frame Check Sequence (FCS) contains a 32-bit CRC value that is used to detect errors in the transmissions. It is computed as a function of the contents of the protected fields of the MAC frame, defined by a generating polynomial. [Source: IEEE Standard 802.3-2012, Section 3.2.9]"
   ]
  },
  {
   "cell_type": "markdown",
   "metadata": {
    "editable": false,
    "scrolled": false
   },
   "source": [
    "<div style=\"background-color:rgba(100, 160, 200, 0.33);\">\n",
    "<p>\n",
    "<b>b) [0.1 credits]</b> Write the body of the given function <span style=\"font-family: monospace\">extend_hexdump()</span>. \n",
    "The function gets a hexdump without the FCS as an input and should return the extended hexdump with the FCS at the correct position and with the correct length. \n",
    "<span style=\"font-family: monospace\">extend_hexdump()</span> may not modify the original hexdump.\n",
    "You do <b>not</b> need to calculate the correct FCS but can set all bits of the FCS to '1'.\n",
    "</p>\n",
    "</div>"
   ]
  },
  {
   "cell_type": "code",
   "execution_count": 201,
   "metadata": {
    "scrolled": false
   },
   "outputs": [
    {
     "name": "stdout",
     "output_type": "stream",
     "text": [
      "00000000: FC E9 98 97 EC EA 44 D9  E7 00 40 01 08 00 45 00  ......D...@...E.\n",
      "00000010: 00 38 00 00 00 00 F1 01  8C 2B 3E 9A 59 2E AC 13  .8.......+>.Y...\n",
      "00000020: F9 BD 0B 00 BF 50 00 00  00 00 45 00 00 3C 15 B2  .....P....E..<..\n",
      "00000030: 00 00 01 11 EA 81 AC 13  F9 BD 81 BB 91 F1 D4 0F  ................\n",
      "00000040: 82 BE 00 28 DE B8 FF FF  FF FF                    ...(......\n"
     ]
    }
   ],
   "source": [
    "def extend_hexdump(dump):\n",
    "    # begin insert code\n",
    "    dump = dump + bytearray(b'\\xFF\\xFF\\xFF\\xFF')\n",
    "    # end insert code\n",
    "    return dump\n",
    "    \n",
    "prtyprnt(extend_hexdump(dump_ipv4))"
   ]
  },
  {
   "cell_type": "markdown",
   "metadata": {
    "editable": false,
    "scrolled": false
   },
   "source": [
    "<div style=\"background-color:rgba(100, 160, 200, 0.33);\">\n",
    "<p>\n",
    "<b>c) [0.2 credits]</b> \n",
    "Write two functions which return the source and destination MAC of a given Ethernet frame.\n",
    "<ul>\n",
    "    <li><span style=\"font-family: monospace\">getSrcMAC()</span> shall return a <span style=\"font-family: monospace\">bytearray</span> containing the source MAC address</li>\n",
    "    <li><span style=\"font-family: monospace\">getDstMAC()</span> shall return a <span style=\"font-family: monospace\">bytearray</span> containing the destination MAC address</li>\n",
    "</ul>\n",
    "All functions get an Ethernet hexdump as input with the FCS excluded. \n",
    "The functions should work not only on the given hexdumps but on an arbitrary packet hexdump. \n",
    "</p>\n",
    "</div>"
   ]
  },
  {
   "cell_type": "code",
   "execution_count": 202,
   "metadata": {
    "scrolled": false
   },
   "outputs": [
    {
     "name": "stdout",
     "output_type": "stream",
     "text": [
      "00000000: 90 E2 BA 7A A7 34                                 ...z.4\n"
     ]
    }
   ],
   "source": [
    "def getSrcMAC(dump):\n",
    "    # begin insert code\n",
    "    return dump[6:12]\n",
    "    # end insert code\n",
    "    return dump\n",
    "\n",
    "prtyprnt(getSrcMAC(dump_ipv6))"
   ]
  },
  {
   "cell_type": "code",
   "execution_count": 203,
   "metadata": {
    "scrolled": false
   },
   "outputs": [
    {
     "name": "stdout",
     "output_type": "stream",
     "text": [
      "00000000: 33 33 FF D7 6D A0                                 33..m.\n"
     ]
    }
   ],
   "source": [
    "def getDstMAC(dump):\n",
    "    # begin insert code\n",
    "    return dump[0:6]\n",
    "    # end insert code\n",
    "    return dump\n",
    "\n",
    "prtyprnt(getDstMAC(dump_ipv6))"
   ]
  },
  {
   "cell_type": "markdown",
   "metadata": {
    "editable": false,
    "scrolled": false
   },
   "source": [
    "<div style=\"background-color:rgba(100, 160, 200, 0.33);\">\n",
    "<p>\n",
    "<b>d) [0.5 credits]</b> \n",
    "Try to identify the hardware vendors, based on MAC addresses given in the IPv6 hexdump. \n",
    "</p>\n",
    "</div>"
   ]
  },
  {
   "cell_type": "markdown",
   "metadata": {
    "scrolled": false
   },
   "source": [
    "Src. address: Intel\n",
    "Dest. address: No vendor assignment (multicast address)\n",
    "\n",
    "[Source: https://maclookup.app/]"
   ]
  },
  {
   "cell_type": "markdown",
   "metadata": {
    "editable": false,
    "scrolled": false
   },
   "source": [
    "<div style=\"background-color:rgba(100, 160, 200, 0.33);\">\n",
    "<p>\n",
    "<b>e) [0.6 credits]</b>\n",
    "\n",
    "Without knowing that the given hexdump is an Ethernet frame, we would not be able to decode it as we had no clue what the data fields represent.\n",
    "Knowing that it is Ethernet enables us to parse the first header.\n",
    "</p>\n",
    "<ul>\n",
    "    <li>\n",
    "        Write a function that is able to check for a given hexdump whether the frame contains an IPv4 packet as its payload or not.\n",
    "    </li>\n",
    "    <li>\n",
    "        Write a function that is able to check for a given hexdump whether the frame contains an IPv6 packet as its payload or not.\n",
    "    </li>\n",
    "    <li>\n",
    "        Write a function that returns the type of the layer 3 payload. It should return 4/6 for IPv4/IPv6 and None otherwise.\n",
    "    </li>\n",
    "</ul>\n",
    "</p>\n",
    "\n",
    "<p>\n",
    "<b>Note:</b> You can assume Ethernet frames without VLANs, i.e., no IEEE 802.3q.\n",
    "</p>\n",
    "</div>"
   ]
  },
  {
   "cell_type": "code",
   "execution_count": 204,
   "metadata": {
    "scrolled": false
   },
   "outputs": [
    {
     "name": "stdout",
     "output_type": "stream",
     "text": [
      "Does dump_ipv4 contain a valid IPv4 packet? True\n"
     ]
    }
   ],
   "source": [
    "def isIPv4(dump):\n",
    "    # begin insert code\n",
    "    return dump[12:14] == bytearray(b'\\x08\\x00')\n",
    "    # end insert code\n",
    "    return False\n",
    "\n",
    "print('Does dump_ipv4 contain a valid IPv4 packet?', isIPv4(dump_ipv4))"
   ]
  },
  {
   "cell_type": "code",
   "execution_count": 205,
   "metadata": {
    "scrolled": false
   },
   "outputs": [
    {
     "name": "stdout",
     "output_type": "stream",
     "text": [
      "Does dump_ipv6 contain a valid IPv6 packet? True\n"
     ]
    }
   ],
   "source": [
    "def isIPv6(dump):\n",
    "    # begin insert code\n",
    "    return dump[12:14] == bytearray(b'\\x86\\xdd')\n",
    "    # end insert code\n",
    "    return False\n",
    "\n",
    "print('Does dump_ipv6 contain a valid IPv6 packet?', isIPv6(dump_ipv6))"
   ]
  },
  {
   "cell_type": "code",
   "execution_count": 206,
   "metadata": {
    "scrolled": false
   },
   "outputs": [
    {
     "name": "stdout",
     "output_type": "stream",
     "text": [
      "dump_ipv4 contains IP version 4\n",
      "dump_ipv6 contains IP version 6\n"
     ]
    }
   ],
   "source": [
    "def getL3Type(dump):\n",
    "    # begin insert code\n",
    "    return dump[14] >> 4\n",
    "    # end insert code\n",
    "    return None\n",
    "\n",
    "print('dump_ipv4 contains IP version {}'.format(getL3Type(dump_ipv4)))\n",
    "print('dump_ipv6 contains IP version {}'.format(getL3Type(dump_ipv6)))"
   ]
  },
  {
   "cell_type": "markdown",
   "metadata": {
    "editable": false,
    "scrolled": false
   },
   "source": [
    "<div style=\"background-color:rgba(100, 160, 200, 0.33);\">\n",
    "<p>\n",
    "<b>f) [0.5 credits]</b> \n",
    "How can the beginning of the payload be determined for Ethernet frames?\n",
    "</p>\n",
    "</div>"
   ]
  },
  {
   "cell_type": "markdown",
   "metadata": {
    "scrolled": false
   },
   "source": [
    "The ethernet header has a fixed size of 14 bytes. This means given an Ethernet frame, the payload will beginn at the 15th byte of the frame.\n",
    "\n",
    "[Source: https://acn.net.in.tum.de/previous_exams/cheatsheet.pdf]"
   ]
  },
  {
   "cell_type": "markdown",
   "metadata": {
    "editable": false,
    "scrolled": false
   },
   "source": [
    "<div style=\"background-color:rgba(100, 160, 200, 0.33);\">\n",
    "<p>\n",
    "<b>g) [0.6 credits]</b> \n",
    "How can the beginning of the payload be determined for IP packets? What is the difference between IPv4 and IPv6?\n",
    "</p>\n",
    "</div>"
   ]
  },
  {
   "cell_type": "markdown",
   "metadata": {
    "scrolled": false
   },
   "source": [
    "In f), we already identified how to find the payload of the ethernet frame. In case the ethernet frame contains an IP packet, we can then go from there to identify the payload. The IPv4 header has a fixed size of 20 bytes, so in case no options are given, the payload starts after that. For IPv6, the header has a size of 40B. In case there are no extension headers, the payload starts from there. Otherwise we need to check the next header fields for each extension header until we reach the actual payload.\n",
    "\n",
    "[Source: https://acn.net.in.tum.de/previous_exams/cheatsheet.pdf]"
   ]
  },
  {
   "cell_type": "markdown",
   "metadata": {
    "editable": false,
    "scrolled": false
   },
   "source": [
    "<div style=\"background-color:rgba(100, 160, 200, 0.33);\">\n",
    "<p>\n",
    "<b>h) [0.6 credits]</b>\n",
    "Write three functions:\n",
    "<ul>\n",
    "    <li><span style=\"font-family: monospace\">cutL2PDU()</span> shall return a <span style=\"font-family: monospace\">bytearray</span> containing the Layer 2 PDU</li>\n",
    "    <li><span style=\"font-family: monospace\">cutL2SDU()</span> shall return a <span style=\"font-family: monospace\">bytearray</span> containing the Layer 2 SDU</li>\n",
    "    <li><span style=\"font-family: monospace\">cutIPPDU()</span> shall return a <span style=\"font-family: monospace\">bytearray</span> containing the Layer 3 PDU. <br><span style=\"font-family: monospace\">cutIPPDU()</span> should only cut out valid IPv4 or IPv6 packets. In case no IPv4 or IPv6 packet is found an empty <span style=\"font-family: monospace\">bytearray</span> should be returned.</li>\n",
    "</ul>\n",
    "<p>\n",
    "All functions get an Ethernet hexdump as input with the FCS excluded. \n",
    "The functions should work not only on the given hexdump but on an arbitrary packet hexdump.\n",
    "For this exercise you can assume correct packets, i.e. your functions do not need to validate the given data.\n",
    "</p>\n",
    "</div>"
   ]
  },
  {
   "cell_type": "code",
   "execution_count": 207,
   "metadata": {
    "scrolled": false
   },
   "outputs": [
    {
     "name": "stdout",
     "output_type": "stream",
     "text": [
      "00000000: FC E9 98 97 EC EA 44 D9  E7 00 40 01 08 00 45 00  ......D...@...E.\n",
      "00000010: 00 38 00 00 00 00 F1 01  8C 2B 3E 9A 59 2E AC 13  .8.......+>.Y...\n",
      "00000020: F9 BD 0B 00 BF 50 00 00  00 00 45 00 00 3C 15 B2  .....P....E..<..\n",
      "00000030: 00 00 01 11 EA 81 AC 13  F9 BD 81 BB 91 F1 D4 0F  ................\n",
      "00000040: 82 BE 00 28 DE B8                                 ...(..\n"
     ]
    }
   ],
   "source": [
    "def cutL2PDU(dump):\n",
    "    # begin insert code\n",
    "    # end insert code\n",
    "    return dump\n",
    "\n",
    "prtyprnt(cutL2PDU(dump_ipv4))"
   ]
  },
  {
   "cell_type": "code",
   "execution_count": 208,
   "metadata": {
    "scrolled": false
   },
   "outputs": [
    {
     "name": "stdout",
     "output_type": "stream",
     "text": [
      "00000000: 45 00 00 38 00 00 00 00  F1 01 8C 2B 3E 9A 59 2E  E..8.......+>.Y.\n",
      "00000010: AC 13 F9 BD 0B 00 BF 50  00 00 00 00 45 00 00 3C  .......P....E..<\n",
      "00000020: 15 B2 00 00 01 11 EA 81  AC 13 F9 BD 81 BB 91 F1  ................\n",
      "00000030: D4 0F 82 BE 00 28 DE B8                           .....(..\n"
     ]
    }
   ],
   "source": [
    "def cutL2SDU(dump):\n",
    "    # begin insert code\n",
    "    return dump[14:]\n",
    "    # end insert code\n",
    "    return dump\n",
    "\n",
    "prtyprnt(cutL2SDU(dump_ipv4))"
   ]
  },
  {
   "cell_type": "code",
   "execution_count": 209,
   "metadata": {
    "scrolled": false
   },
   "outputs": [
    {
     "name": "stdout",
     "output_type": "stream",
     "text": [
      "00000000: 45 00 00 38 00 00 00 00  F1 01 8C 2B 3E 9A 59 2E  E..8.......+>.Y.\n",
      "00000010: AC 13 F9 BD 0B 00 BF 50  00 00 00 00 45 00 00 3C  .......P....E..<\n",
      "00000020: 15 B2 00 00 01 11 EA 81  AC 13 F9 BD 81 BB 91 F1  ................\n",
      "00000030: D4 0F 82 BE 00 28 DE B8                           .....(..\n"
     ]
    }
   ],
   "source": [
    "def cutIPPDU(dump):\n",
    "    # begin insert code\n",
    "    if isIPv4(dump) or isIPv6(dump):\n",
    "        return cutL2SDU(dump)\n",
    "    else:\n",
    "        return bytearray(b'')\n",
    "    # end insert code\n",
    "    return dump\n",
    "\n",
    "prtyprnt(cutIPPDU(dump_ipv4))"
   ]
  },
  {
   "cell_type": "markdown",
   "metadata": {
    "editable": false,
    "scrolled": false
   },
   "source": [
    "<div style=\"background-color:rgba(100, 160, 200, 0.33);\">\n",
    "<p>\n",
    "<b>i) [0.2 credits]<a name=\"wiresharkipv4payload\"></a></b> \n",
    "Write a function which helps to identify the type of payload an IPv4 or IPv6 packet is carrying. You can assume that the <span style=\"font-family: monospace\">identifyPayploadIP()</span> gets an Ethernet hexdump as input with the FCS excluded. It should return a <span style=\"font-family: monospace\">bytearray</span> containing the L4 payload identifier or an empty <span style=\"font-family: monospace\">bytearray</span> if neither an IPv4 nor an IPv6 payload was found.\n",
    "</p>\n",
    "<p>\n",
    "    <b>Hint</b>: you can assume that there are no Extension Headers within the IPv6 packets.\n",
    "    </p>\n",
    "</div>"
   ]
  },
  {
   "cell_type": "code",
   "execution_count": 210,
   "metadata": {
    "scrolled": false
   },
   "outputs": [
    {
     "name": "stdout",
     "output_type": "stream",
     "text": [
      "00000000: 01                                                .\n",
      "00000000: 3A                                                :\n"
     ]
    }
   ],
   "source": [
    "def identifyPayloadIP(dump):\n",
    "    # begin insert code\n",
    "    if isIPv4(dump):\n",
    "        return cutIPPDU(dump)[9:10]\n",
    "    elif isIPv6(dump):\n",
    "        return cutIPPDU(dump)[6:7]\n",
    "    else:\n",
    "        return bytearray(b'')\n",
    "    # end insert code\n",
    "    return dump\n",
    "\n",
    "prtyprnt(identifyPayloadIP(dump_ipv4))\n",
    "prtyprnt(identifyPayloadIP(dump_ipv6))"
   ]
  },
  {
   "cell_type": "markdown",
   "metadata": {
    "editable": false,
    "scrolled": false
   },
   "source": [
    "<div style=\"background-color:rgba(100, 160, 200, 0.33);\">\n",
    "<p>\n",
    "<b>j) [0.2 credits]<a name=\"wiresharkl3payload\"></a></b> \n",
    "Based on your answer of <a href=\"#wiresharkipv4payload\">i)</a>, what are the protocols contained in the two given hexdumps.\n",
    "</p>\n",
    "</div>"
   ]
  },
  {
   "cell_type": "markdown",
   "metadata": {
    "scrolled": false
   },
   "source": [
    "IPv4: ICMPv4\n",
    "IPv6: ICMPv6\n",
    "\n",
    "[Source: https://acn.net.in.tum.de/previous_exams/cheatsheet.pdf]"
   ]
  },
  {
   "cell_type": "markdown",
   "metadata": {
    "editable": false,
    "scrolled": false
   },
   "source": [
    "<div style=\"background-color:rgba(100, 160, 200, 0.33);\">\n",
    "<p>\n",
    "<b>k) [0.5 credits]<a name=\"wiresharkl4headerfield\"></a></b> \n",
    "Explain the payload (header fields and the content type) of the IPv4 packet identified in <a href=\"#wiresharkl3payload\">j)</a>.\n",
    "</p>\n",
    "</div>"
   ]
  },
  {
   "cell_type": "markdown",
   "metadata": {
    "scrolled": false
   },
   "source": [
    "When looking at the content of the ICMPv4 packet, the following fields are set:\n",
    "- Type: 0x0b (11): Time Exceeded\n",
    "- Code: 0x00 (0): TTL expired in transit\n",
    "- Checksum: 0xBF50\n",
    "- Unused: 0x00000000\n",
    "\n",
    "[Source: https://acn.net.in.tum.de/previous_exams/cheatsheet.pdf]\n",
    "\n",
    "This means the ICMP packet is sent back to the client who just tried to send a packet which couldn't get transmitted as the TTL value expired. The ICMP packet will then contain the beginning of the packet that couldn't be transmitted as a payload.\n",
    "\n",
    "[Source: RFC 792, Time Exceeded Message]"
   ]
  },
  {
   "cell_type": "markdown",
   "metadata": {
    "editable": false,
    "scrolled": false
   },
   "source": [
    "<div style=\"background-color:rgba(100, 160, 200, 0.33);\">\n",
    "<p>\n",
    "<b>l) [0.5 credits]<a name=\"wiresharkl4type\"></a></b> \n",
    "Explain the payload (header fields and the content type) of the IPv6 packet identified in <a href=\"#wiresharkipv4payload\">j)</a> and how this relates to the answer in <a href=\"#wiresharkipv4payload\">d)</a>.\n",
    "</p>\n",
    "</div>"
   ]
  },
  {
   "cell_type": "markdown",
   "metadata": {
    "scrolled": false
   },
   "source": [
    "When looking at the content of the ICMPv6 packet, the following fields are set:\n",
    "- Type: 0x87 (135): Neighbor Solicitation\n",
    "- Code: 0x00 (0): Neighbor Discovery Protocol (NDP)\n",
    "- Checksum: 0x19C9\n",
    "- Reserved: 0x00000000\n",
    "- Target Address: 2001:4ca0:2001:11:225:90ff:fed7:6da0\n",
    "- Option Type: 0x01\n",
    "- Option Length: 0x01\n",
    "- Source Link Address: 00:25:90:54:73:9a\n",
    "\n",
    "[Source: https://acn.net.in.tum.de/previous_exams/cheatsheet.pdf]\n",
    "\n",
    "As we can see, this is a Neighbor Solicitation request, used to ask for the MAC address of the interface configured for a given IPv6 address. When looking at the answer in d), this makes sense as the destination MAC address did not contain a vendor but was a multicast address instead and Neighbor Solicitation sets the destination MAC address to multicast as it is currently unknown.\n",
    "\n",
    "[Source: https://acn.net.in.tum.de/slides/06_IPv6.pdf, Slide 31]"
   ]
  },
  {
   "cell_type": "markdown",
   "metadata": {
    "editable": false,
    "scrolled": false
   },
   "source": [
    "<div style=\"background-color:rgba(100, 160, 200, 0.33);\">\n",
    "<h3>Problem 2 IPv6 (3.5 credits)</h3>\n",
    "\n",
    "<p>\n",
    "IPv6 is the successor if IPv4. Instead of 32 bits, 128 bits are used for each address. This offers enough space for many different address types. However, the text representation of the addresses becomes more complex as well.\n",
    "</p>\n",
    "\n",
    "</div>"
   ]
  },
  {
   "cell_type": "markdown",
   "metadata": {
    "editable": false,
    "scrolled": false
   },
   "source": [
    "<div style=\"background-color:rgba(100, 160, 200, 0.33);\">\n",
    "<p>\n",
    "<b>a) [1 credits]</b>\n",
    "    Write a function <span style=\"font-family: monospace\">convert_ipv6</span>.\n",
    "</p>\n",
    "    \n",
    "<p>\n",
    "The function receives a bytearray containing a valid IPv6 address and should return the <b>shortest possible</b> string representation of the address. Make sure the following requirements are fulfilled.\n",
    "</p>\n",
    "<ul>\n",
    "    <li>remove leading zeros for each byte-pair (do not remove trailing ones)</li>\n",
    "    <li>the longest serie of consecutive 0s can be merged with ::</li>\n",
    "</ul>\n",
    "   \n",
    "<p>\n",
    "    <b>Remark:</b> For this problem you are not allowed to use any modules like\n",
    "    <a href=\"https://docs.python.org/3/library/ipaddress.html#module-ipaddress\">ipaddress</a>.\n",
    "</p>\n",
    "</div>"
   ]
  },
  {
   "cell_type": "code",
   "execution_count": 211,
   "metadata": {
    "scrolled": false
   },
   "outputs": [
    {
     "data": {
      "text/plain": "'ff02::1:ffd7:6da0'"
     },
     "execution_count": 211,
     "metadata": {},
     "output_type": "execute_result"
    }
   ],
   "source": [
    "def convert_ipv6(address):\n",
    "    # begin insert code\n",
    "    import re\n",
    "\n",
    "    result = []\n",
    "    for i in range(0, len(address) // 2):\n",
    "        current = address[2 * i:2 * (i + 1)]\n",
    "        result.append(''.join(format(x, '02x') for x in current))\n",
    "    result = ':'.join(result)\n",
    "\n",
    "    # remove the longest series of 0s\n",
    "    replace = [x for (x, _) in re.findall(\"(0000(:0000)+)\", result)]\n",
    "    replace.sort(key=len)\n",
    "\n",
    "    if len(replace):\n",
    "        result = result.replace(replace[0], \"\", 1)\n",
    "\n",
    "    # remove leading 0s\n",
    "    result = re.sub(\"(:0+)(\\d)\", r\":\\2\", result, 8)\n",
    "\n",
    "    return result\n",
    "    # end insert code\n",
    "    return str(address)\n",
    "\n",
    "\n",
    "\n",
    "ipv6 = bytearray(b'\\xff\\x02\\x00\\x00\\x00\\x00\\x00\\x00\\x00\\x00\\x00\\x01\\xff\\xd7\\x6d\\xa0')\n",
    "# should convert to ff02::1:ffd7:6da0\n",
    "convert_ipv6(ipv6)"
   ]
  },
  {
   "cell_type": "markdown",
   "metadata": {
    "editable": false,
    "scrolled": false
   },
   "source": [
    "<div style=\"background-color:rgba(100, 160, 200, 0.33);\">\n",
    "<p>\n",
    "Stateless Address Auto Configuration (SLAAC) is a protocol to automatically set up Link-Local addresses.\n",
    "    <a href=\"https://tools.ietf.org/html/rfc4291#section-2.5.6\">RFC 4291</a> describes in Section 2.5.6 how Link-Local addresses are computed using the device's MAC address.\n",
    "</p>\n",
    "</div>"
   ]
  },
  {
   "cell_type": "markdown",
   "metadata": {
    "editable": false,
    "scrolled": false
   },
   "source": [
    "<div style=\"background-color:rgba(100, 160, 200, 0.33);\">\n",
    "<p>\n",
    "<b>b) [0.5 credits]</b>\n",
    "Write a function <span style=\"font-family: monospace\">generate_link_local</span>.\n",
    "</p>\n",
    "<p>\n",
    "    The functions receives a <span style=\"font-family: monospace\">bytearray</span> containing a MAC address and should return a <span style=\"font-family: monospace\">bytearray</span> with the corresponding Link-Local address.\n",
    "</p>\n",
    "<p>\n",
    "    <b>Remark:</b> For this problem you are not allowed to use any modules like\n",
    "    <a href=\"https://docs.python.org/3/library/ipaddress.html#module-ipaddress\">ipaddress</a>.\n",
    "</p>   \n",
    "</div>"
   ]
  },
  {
   "cell_type": "code",
   "execution_count": 212,
   "metadata": {
    "scrolled": false
   },
   "outputs": [
    {
     "data": {
      "text/plain": "'fe80::302:3ff:fe04:506'"
     },
     "execution_count": 212,
     "metadata": {},
     "output_type": "execute_result"
    }
   ],
   "source": [
    "def generate_link_local(mac):\n",
    "    # begin insert code\n",
    "    mod = mac[:3] + bytearray(b'\\xff\\xfe') + mac[3:]\n",
    "    # flip bit\n",
    "    mod[0] ^= 1 << 1\n",
    "    return bytearray(b'\\xfe\\x80\\x00\\x00\\x00\\x00\\x00\\x00\\x00\\x00\\x00\\x00\\x00\\x00\\x00\\x00') + mod\n",
    "    # end insert code\n",
    "    return bytearray(16)\n",
    "\n",
    "\n",
    "mac = bytearray(b'\\x01\\x02\\x03\\x04\\x05\\x06')\n",
    "convert_ipv6(generate_link_local(mac ))"
   ]
  },
  {
   "cell_type": "markdown",
   "metadata": {
    "editable": false,
    "scrolled": false
   },
   "source": [
    "<div style=\"background-color:rgba(100, 160, 200, 0.33);\">\n",
    "<p>\n",
    "IPv6 Multicast Address spaces are defined in <a href=\"https://tools.ietf.org/html/rfc4291#section-2.7\">RFC 4291</a> in Section 2.7.\n",
    "For Neigbor Discovery the Solicited-Node Address is used.\n",
    "</p>\n",
    "</div>"
   ]
  },
  {
   "cell_type": "markdown",
   "metadata": {
    "editable": false,
    "scrolled": false
   },
   "source": [
    "<div style=\"background-color:rgba(100, 160, 200, 0.33);\">\n",
    "<p>\n",
    "    <b>c) [0.5 credits]</b>\n",
    "    Write two functions:\n",
    "    <ul>\n",
    "        <li> <span style=\"font-family: monospace\">compute_solicited_node_multicast</span>, which gets as input a\n",
    "            <span style=\"font-family: monospace\">bytearray</span> containing an IPv6 address and\n",
    "            returns a <span style=\"font-family: monospace\">bytearray</span> containing the Solicited-Node Multicast             address of the IPv6 address.\n",
    "        </li>\n",
    "        <li>\n",
    "            <span style=\"font-family: monospace\">compute_multicast_mac</span>, which gets as input a\n",
    "            <span style=\"font-family: monospace\">bytearray</span> containing an IPv6 address and\n",
    "            returns a <span style=\"font-family: monospace\">bytearray</span> containing the multicast MAC address\n",
    "            as specified in <a href=\"https://tools.ietf.org/html/rfc2464#section-7\">RFC 2464</a> in Section 7.\n",
    "        </li>\n",
    "    </ul>\n",
    "\n",
    "</p>\n",
    "</div>"
   ]
  },
  {
   "cell_type": "code",
   "execution_count": 213,
   "metadata": {
    "scrolled": false
   },
   "outputs": [
    {
     "name": "stdout",
     "output_type": "stream",
     "text": [
      "ff02::1:ff62:554f\n",
      "33:33:38:62:55:4f\n"
     ]
    }
   ],
   "source": [
    "def compute_solicited_node_multicast(ipv6):\n",
    "    # begin insert code\n",
    "    return bytearray(b'\\xff\\x02\\x00\\x00\\x00\\x00\\x00\\x00\\x00\\x00\\x00\\x01\\xff') + ipv6[13:16]\n",
    "    # end insert code\n",
    "    return ipv6\n",
    "\n",
    "\n",
    "def compute_multicast_mac(ipv6):\n",
    "    # begin insert code\n",
    "    return bytearray(b'\\x33\\x33') + ipv6[12:16]\n",
    "    # end insert code\n",
    "    return bytearray(6)\n",
    "\n",
    "\n",
    "ipv6 = bytearray(b'\\x20\\x01\\x4c\\xa0\\x20\\x01\\x00\\x40\\xe1\\x14\\x90\\xfe\\x38\\x62\\x55\\x4f')\n",
    "print(convert_ipv6(compute_solicited_node_multicast(ipv6)))\n",
    "\n",
    "mac = compute_multicast_mac(ipv6)\n",
    "print('{:02x}:{:02x}:{:02x}:{:02x}:{:02x}:{:02x}'.format(*mac))"
   ]
  },
  {
   "cell_type": "markdown",
   "metadata": {
    "editable": false,
    "scrolled": false
   },
   "source": [
    "<div style=\"background-color:rgba(100, 160, 200, 0.33);\">\n",
    "<p>\n",
    "In the next subproblem you will analyze how IPv6 addresses are distributed.\n",
    "First you will download a file from the ACN website which contains two datasets with different IPv6 addresses.\n",
    "</p>\n",
    "<p>\n",
    "Run the following cell to download the file and print some sample values from each dataset.\n",
    "</p>\n",
    "</div>"
   ]
  },
  {
   "cell_type": "code",
   "execution_count": 214,
   "metadata": {
    "scrolled": false
   },
   "outputs": [
    {
     "name": "stdout",
     "output_type": "stream",
     "text": [
      "--2022-12-04 22:03:48--  https://acn.net.in.tum.de/exercise/ipv6_dataset.npz\r\n",
      "Resolving acn.net.in.tum.de (acn.net.in.tum.de)... 188.95.232.11\r\n",
      "Connecting to acn.net.in.tum.de (acn.net.in.tum.de)|188.95.232.11|:443... connected.\r\n",
      "HTTP request sent, awaiting response... 200 OK\r\n",
      "Length: 3200518 (3.1M) [application/octet-stream]\r\n",
      "Saving to: ‘ipv6_dataset.npz’\r\n",
      "\r\n",
      "ipv6_dataset.npz    100%[===================>]   3.05M  6.26MB/s    in 0.5s    \r\n",
      "\r\n",
      "2022-12-04 22:03:49 (6.26 MB/s) - ‘ipv6_dataset.npz’ saved [3200518/3200518]\r\n",
      "\r\n",
      "Dataset 1:\n",
      "0218:9a9:88a7:dc4f:8502:6d2e:2b71:8830\n",
      "5381:461b:8708:38bf:7dd2:a6e0:f7bb:dcb1\n",
      "bc80:6b76:b7a3:4a37:b262:cfdf:c45a:8f5d\n",
      "\n",
      "Dataset 2:\n",
      "539f:d7a5:7ff3:8c3:10::1\n",
      "2fca:c61c:e13b:6c85:200:8:100:1\n",
      "50b7:761b:0c7e:c53c:21:0:1:41\n"
     ]
    }
   ],
   "source": [
    "# Download IPv6 address lists from ACN website\n",
    "!wget https://acn.net.in.tum.de/exercise/ipv6_dataset.npz\n",
    "# Load file into Python\n",
    "import numpy as np\n",
    "data = np.load('ipv6_dataset.npz')\n",
    "\n",
    "# Print sample data\n",
    "print('Dataset 1:')\n",
    "print('\\n'.join(map(convert_ipv6, data['dataset1'][:3])))\n",
    "    \n",
    "print('\\nDataset 2:')\n",
    "print('\\n'.join(map(convert_ipv6, data['dataset2'][:3])))"
   ]
  },
  {
   "cell_type": "markdown",
   "metadata": {
    "editable": false,
    "scrolled": false
   },
   "source": [
    "<div style=\"background-color:rgba(100, 160, 200, 0.33);\">\n",
    "<p>\n",
    "    <b>d) [0.5 credits]</b>\n",
    "Write a function <span style=\"font-family: monospace\">count_ones</span>.\n",
    "</p>\n",
    "<p>\n",
    "    The function receives a <span style=\"font-family: monospace\">bytearray</span> containing an IPv6 address and should return the number of bits set to 1 in the last 64 bits of the IPv6 address.\n",
    "</p>\n",
    "</div>"
   ]
  },
  {
   "cell_type": "code",
   "execution_count": 215,
   "metadata": {
    "scrolled": false
   },
   "outputs": [],
   "source": [
    "def count_ones(ipv6):\n",
    "    # begin insert code\n",
    "    return sum([bin(x).count(\"1\") for x in ipv6[8:]])\n",
    "    # end insert code\n",
    "    return 0"
   ]
  },
  {
   "cell_type": "markdown",
   "metadata": {
    "editable": false,
    "scrolled": false
   },
   "source": [
    "<div style=\"background-color:rgba(100, 160, 200, 0.33);\">\n",
    "<p>\n",
    "    Once you finished the previous subproblem you can run the following cell which plots the distributions of bits set to one for each dataset.\n",
    "</p>\n",
    "</div>"
   ]
  },
  {
   "cell_type": "code",
   "execution_count": 216,
   "metadata": {
    "scrolled": false
   },
   "outputs": [
    {
     "name": "stderr",
     "output_type": "stream",
     "text": [
      "/var/folders/zt/t8z6qqds2xl9pb72zkkz77p00000gn/T/ipykernel_80697/3419116326.py:11: UserWarning: Matplotlib is currently using module://matplotlib_inline.backend_inline, which is a non-GUI backend, so cannot show the figure.\n",
      "  fig.show()\n"
     ]
    },
    {
     "data": {
      "text/plain": "<Figure size 1500x400 with 2 Axes>",
      "image/png": "[encoded data removed]"
     },
     "metadata": {},
     "output_type": "display_data"
    }
   ],
   "source": [
    "%matplotlib inline\n",
    "import matplotlib.pyplot as plt\n",
    "\n",
    "def plot_histogram(dataset1, dataset2):\n",
    "    \n",
    "    fig, axis = plt.subplots(1, 2, figsize=(15, 4))\n",
    "    axis[0].hist(list(map(count_ones, dataset1)), bins=64, range=(0,64), density=True)\n",
    "    axis[1].hist(list(map(count_ones, dataset2)), bins=64, range=(0,64), density=True)\n",
    "    axis[0].set(xlabel='# of 1', ylabel='Density', title='Dataset 1')\n",
    "    axis[1].set(xlabel='# of 1', ylabel='Density', title='Dataset 2')\n",
    "    fig.show()\n",
    "    \n",
    "plot_histogram(data['dataset1'], data['dataset2'])"
   ]
  },
  {
   "cell_type": "markdown",
   "metadata": {
    "editable": false,
    "scrolled": false
   },
   "source": [
    "<div style=\"background-color:rgba(100, 160, 200, 0.33);\">\n",
    "<p>\n",
    "    <b>e) [1 credits]</b>\n",
    "    Explain how the addresses in the two datasets differ. Give a reason for the differences and what kind of addresses are most likely contained in each dataset.\n",
    "</p>\n",
    "</div>"
   ]
  },
  {
   "cell_type": "markdown",
   "metadata": {
    "scrolled": false
   },
   "source": [
    "The first dataset contains addresses for which the number of bits set to 1 is distributed by a normal distribution. For the second dataset, the addresses almost contain no bits set to 1.\n",
    "\n",
    "The reason for this difference is probably due to the fact, that the first dataset contains unicast addresses. Those types of addresses are used to identify a unique interface in a global network. They take up most of the address space and this means choosing random unicast addresses should lead to some kind of normal distribution.\n",
    "\n",
    "THe second dataset probably contains link-local addresses, as most bits seem to be set to 0. Link-local addresses are part of the fe80::/10 subnet and in reality, even more bits are set to 0. This will lead to a low number of bits set to 1 in those types of addresses.\n",
    "\n",
    "[Source: https://acn.net.in.tum.de/slides/06_IPv6.pdf, Slide 18]"
   ]
  },
  {
   "cell_type": "markdown",
   "metadata": {
    "editable": false,
    "scrolled": false
   },
   "source": [
    "<div style=\"background-color:rgba(100, 160, 200, 0.33);\">\n",
    "<h3>Problem 3 Spanning Tree Protocol (2.5 credits)</h3>\n",
    "\n",
    "<p>\n",
    "We consider the network topology shown in the following figure.\n",
    "The bridge IDs of B1 to B5 correspond to their number, i. e., B1 has ID 1, B2 has ID 2, etc.\n",
    "For the sake of simplicity, we assume equal costs for each bridge port.\n",
    "The network segments are labeled by letters A to H.\n",
    "</p>\n",
    "    \n",
    "<p>\n",
    "    To visualize the graph we use the <span style=\"font-family: monospace\">networkx</span> module,\n",
    "    which probably needs to be installed.\n",
    "</p>\n",
    "</div>"
   ]
  },
  {
   "cell_type": "code",
   "execution_count": 217,
   "metadata": {
    "scrolled": false
   },
   "outputs": [
    {
     "name": "stdout",
     "output_type": "stream",
     "text": [
      "Requirement already satisfied: networkx==2.6.3 in ./venv/lib/python3.9/site-packages (2.6.3)\r\n"
     ]
    }
   ],
   "source": [
    "!pip3 install networkx==2.6.3"
   ]
  },
  {
   "cell_type": "code",
   "execution_count": 218,
   "metadata": {
    "scrolled": false
   },
   "outputs": [
    {
     "data": {
      "text/plain": "<Figure size 1000x1000 with 1 Axes>",
      "image/png": "[encoded data removed]"
     },
     "metadata": {},
     "output_type": "display_data"
    }
   ],
   "source": [
    "%matplotlib inline\n",
    "\n",
    "import networkx as nx\n",
    "import matplotlib.pyplot as plt\n",
    "\n",
    "\n",
    "edges = [\n",
    "         # (src, dst, weight)\n",
    "         ('netA', 'B2', 1),\n",
    "         ('netA', 'B5', 1),\n",
    "         ('netB', 'B5', 1),\n",
    "         ('netB', 'B1', 1),\n",
    "         ('netC', 'B2', 1),\n",
    "         ('netC', 'B3', 1),\n",
    "         ('netD', 'B5', 1),\n",
    "         ('netD', 'B4', 1),\n",
    "         ('netE', 'B3', 1),\n",
    "         ('netE', 'B4', 1),\n",
    "         ('netF', 'B1', 1),\n",
    "         ('netF', 'B4', 1),\n",
    "         ('netG', 'B4', 1),\n",
    "         ('netH', 'B1', 1),\n",
    "         \n",
    "         ]\n",
    "\n",
    "\n",
    "networks = {\n",
    "    # 'name':(posX, posY)\n",
    "    'netA':(0,0),\n",
    "    'netB':(20,-20),\n",
    "    'netC':(0,-40),\n",
    "    'netD':(10,-60),\n",
    "    'netE':(0,-80),\n",
    "    'netF':(20,-80),\n",
    "    'netG':(10,-100),\n",
    "    'netH':(30,-60)\n",
    "}\n",
    "bridges = {\n",
    "    # 'name':(posX, posY)\n",
    "    'B1':(20,-60), \n",
    "    'B2':(0,-20),\n",
    "    'B3':(0,-60),\n",
    "    'B4':(10,-80),\n",
    "    'B5':(10,-20)\n",
    "}\n",
    "ports = {\n",
    "    # 'name':(posX, posY)\n",
    "    'b1pa':(21.5,-60), \n",
    "    'b1pb':(20,-55), \n",
    "    'b1pc':(20,-65),\n",
    "    'b2pa':(0,-15),\n",
    "    'b2pb':(0,-25),\n",
    "    'b3pa':(0,-55),\n",
    "    'b3pb':(0,-65),\n",
    "    'b4pa':(10,-75),\n",
    "    'b4pb':(10,-85),\n",
    "    'b4pc':(8.5,-80),\n",
    "    'b4pd':(11.5,-80),\n",
    "    'b5pa':(11.5,-20),\n",
    "    'b5pb':(10,-25),\n",
    "    'b5pc':(8.5,-17)\n",
    "}\n",
    "\n",
    "def plotNetwork(edges, networks, bridges, bp, dp, rp):\n",
    "    # set plot size\n",
    "    plt.figure(3,figsize=(10,10)) \n",
    "\n",
    "    # draw graph\n",
    "    G = nx.Graph()\n",
    "    G.add_weighted_edges_from(edges)\n",
    "    nx.draw_networkx_edges(G, pos=dict(dict(networks, **bridges), **ports), nodelist = [], edgelist = edges)\n",
    "    nx.draw_networkx_nodes(G, pos=networks, nodelist=networks.keys(), node_color = 'lightblue', node_size=1000)\n",
    "    nx.draw_networkx_nodes(G, pos=bridges, nodelist=bridges.keys(), node_color = 'red', node_shape='s', node_size=500)\n",
    "    nx.draw_networkx_nodes(G, pos=ports, nodelist=dp, node_color='blue', node_size=250)\n",
    "    nx.draw_networkx_nodes(G, pos=ports, nodelist=rp, node_color='green', node_size=250)\n",
    "    nx.draw_networkx_nodes(G, pos=ports, nodelist=bp, node_color='black', node_size=250)\n",
    "    nx.draw_networkx_labels(G, pos=dict(dict(networks, **bridges), **ports))\n",
    "    \n",
    "    # remove axis and plot\n",
    "    plt.axis('off')\n",
    "    plt.show()\n",
    "    \n",
    "plotNetwork(edges, networks, bridges, {}, {}, {})"
   ]
  },
  {
   "cell_type": "markdown",
   "metadata": {
    "editable": false,
    "scrolled": false
   },
   "source": [
    "<div style=\"background-color:rgba(100, 160, 200, 0.33);\">\n",
    "<p>\n",
    "<b>a) [0.25 credits]</b>\n",
    "What is the difference between a shortest path tree (SPT) and a minimum spanning tree (MST)?\n",
    "</p>\n",
    "</div>"
   ]
  },
  {
   "cell_type": "markdown",
   "metadata": {
    "scrolled": false
   },
   "source": [
    "As the name suggests, the shortest path tree is rooted at a certain node and spans the entire network in a way such that the path from the root to each node contained in the spanning tree is the shortest.\n",
    "\n",
    "The minimum spanning tree spans the entire network in a way such that the weigths of all vertices together are minimal.\n",
    "\n",
    "[Source: https://courses.cs.duke.edu/spring19/compsci330/lecture13scribe.pdf]"
   ]
  },
  {
   "cell_type": "markdown",
   "metadata": {
    "editable": false,
    "scrolled": false
   },
   "source": [
    "<div style=\"background-color:rgba(100, 160, 200, 0.33);\">\n",
    "<p>\n",
    "<b>b) [0.25 credits]</b>\n",
    "Explain the problem that is being solved by using the spanning tree protocol in a switched network.\n",
    "</p>\n",
    "</div>"
   ]
  },
  {
   "cell_type": "markdown",
   "metadata": {
    "scrolled": false
   },
   "source": [
    "The spanning tree protocol solves the problem of loops in the network. The bridges \"gossip\" among themselves in order to computer a subset of the network, which does not contain a loop but connects the network fully. Then, data is only forwarded on the spanning tree.\n",
    "\n",
    "[Source: https://acn.net.in.tum.de/slides/03_Protocol_Mechanisms.pdf, Slide 46]"
   ]
  },
  {
   "cell_type": "markdown",
   "metadata": {
    "editable": false,
    "scrolled": false
   },
   "source": [
    "<div style=\"background-color:rgba(100, 160, 200, 0.33);\">\n",
    "<p>\n",
    "<b>c) [0.5 credits]</b>\n",
    "Explain the purpose of the root bridge and how it is elected.\n",
    "</p>\n",
    "</div>"
   ]
  },
  {
   "cell_type": "markdown",
   "metadata": {
    "scrolled": false
   },
   "source": [
    "The root bridge is the root of the network and the spanning tree protocol will determine the least cost path from all nodes to the root bridge and will disable all other paths ot the root. It is usually elected by its ID (the bridge with the lowest bridge_ID becomes the root bridge).\n",
    "\n",
    "[Source: https://acn.net.in.tum.de/slides/03_Protocol_Mechanisms.pdf, Slide 47]"
   ]
  },
  {
   "cell_type": "markdown",
   "metadata": {
    "editable": false,
    "scrolled": false
   },
   "source": [
    "<div style=\"background-color:rgba(100, 160, 200, 0.33);\">\n",
    "<p>\n",
    "<b>d) [1 credits]</b>\n",
    "How does the resulting spanning tree look like after the spanning tree algorithm has been applied to the given network topology?\n",
    "</p>\n",
    "</div>"
   ]
  },
  {
   "cell_type": "code",
   "execution_count": 219,
   "metadata": {
    "scrolled": false
   },
   "outputs": [
    {
     "data": {
      "text/plain": "<Figure size 1000x1000 with 1 Axes>",
      "image/png": "[encoded data removed]"
     },
     "metadata": {},
     "output_type": "display_data"
    }
   ],
   "source": [
    "# fill these lists with the names of the blocked/designated/root ports\n",
    "# use the names already predefined e.g., blocked = ['b1pa'] for blocking port a of bridge b1\n",
    "\n",
    "# take care that each port only occurs once\n",
    "# if a port is assigned multiple times your answer will not be accepted\n",
    "\n",
    "blocked = [\n",
    "    # begin insert code\n",
    "    'b2pb',\n",
    "    'b5pb'\n",
    "    # end insert code\n",
    "]\n",
    "designated = [\n",
    "    # begin insert code\n",
    "    'b1pa',\n",
    "    'b1pb',\n",
    "    'b1pc',\n",
    "    'b3pa',\n",
    "    'b4pa',\n",
    "    'b4pb',\n",
    "    'b4pc',\n",
    "    'b5pc'\n",
    "    # end insert code\n",
    "]\n",
    "root = [\n",
    "    # begin insert code\n",
    "    'b2pa',\n",
    "    'b3pb',\n",
    "    'b4pd',\n",
    "    'b5pa'\n",
    "    # end insert code\n",
    "]\n",
    "plotNetwork(edges, networks, bridges, blocked, designated, root)"
   ]
  },
  {
   "cell_type": "markdown",
   "metadata": {
    "editable": false,
    "scrolled": false
   },
   "source": [
    "<div style=\"background-color:rgba(100, 160, 200, 0.33);\">\n",
    "<p>\n",
    "<b>e) [0.5 credits]</b>\n",
    "What happens if bridge B1 fails?\n",
    "</p>\n",
    "</div>"
   ]
  },
  {
   "cell_type": "markdown",
   "metadata": {
    "scrolled": false
   },
   "source": [
    "As bridge B1 is selected as the root bridge, the spanning tree will possibly fall apart and a new root bridge needs to be elected (B2). Then, the protocol again needs to compute the new spanning tree."
   ]
  },
  {
   "cell_type": "markdown",
   "metadata": {
    "editable": false,
    "scrolled": false
   },
   "source": [
    "<div style=\"background-color:rgba(100, 160, 200, 0.33);\">\n",
    "<h3>Problem 4 Network Topology and Tracing Routes (5 credits)</h3>\n",
    "\n",
    "<p>\n",
    "In this task, you will make yourself familiar with the tool traceroute, which can be used to get a glimpse at a network’s topology.\n",
    "</p>\n",
    "\n",
    "</div>"
   ]
  },
  {
   "cell_type": "markdown",
   "metadata": {
    "editable": false,
    "scrolled": false
   },
   "source": [
    "<div style=\"background-color:rgba(100, 160, 200, 0.33);\">\n",
    "<p>\n",
    "<b>a) [0.5 credits]</b>\n",
    "Explain the basic principle behind traceroute, i.e., how does it work and what is it being used for?\n",
    "</p>\n",
    "</div>"
   ]
  },
  {
   "cell_type": "markdown",
   "metadata": {
    "scrolled": false
   },
   "source": [
    "Traceroute sends multiple ICMP packets with increasing TTL and tracks the \"time exceeded\" replies of the different entities on the path. This can be used to follow the path that a packet will take.\n",
    "\n",
    "[Source: https://acn.net.in.tum.de/slides/05_IPv4.pdf, Slide 25]"
   ]
  },
  {
   "cell_type": "markdown",
   "metadata": {
    "editable": false,
    "scrolled": false
   },
   "source": [
    "<div style=\"background-color:rgba(100, 160, 200, 0.33);\">\n",
    "<p>\n",
    "<b>b) [0.5 credits]</b>\n",
    "Discuss the advantages and disadvantages when using packets with different protocols / payload types to generate the traces.\n",
    "</p>\n",
    "</div>"
   ]
  },
  {
   "cell_type": "markdown",
   "metadata": {
    "scrolled": false
   },
   "source": [
    "Advantages: Using different protocols/payload types will give a more comprehensive view of the network as those parameters might influence how the packet is routed.\n",
    "\n",
    "Disadvantages: The traceroute might be more difficult to interpret as the packets might behave differently on the packet and also, the program has to handle different kinds of responses depending on which protocol was used."
   ]
  },
  {
   "cell_type": "markdown",
   "metadata": {
    "editable": false,
    "scrolled": false
   },
   "source": [
    "<div style=\"background-color:rgba(100, 160, 200, 0.33);\">\n",
    "<p>\n",
    "The following cell shows an output of traceroute to <a href=\"http://www.caida.org\">caida.org</a>.\n",
    "</p>\n",
    "</div>"
   ]
  },
  {
   "cell_type": "code",
   "execution_count": 220,
   "metadata": {
    "scrolled": false
   },
   "outputs": [],
   "source": [
    "# traceroute to www.caida.org (2001:48d0:101:501::122), 30 hops max, 80 byte packets\n",
    "# 1  * * 2a00:4700:0:9::1 (2a00:4700:0:9::1)  1.663 ms\n",
    "# 2  2a00:4700:0:8::1 (2a00:4700:0:8::1)  1.512 ms  1.363 ms  1.107 ms\n",
    "# 3  2a00:4700:0:1::3 (2a00:4700:0:1::3)  1.458 ms  1.263 ms  1.056 ms\n",
    "# 4  * * *\n",
    "# 5  cr-fra2-be14.x-win.dfn.de (2001:638:c:c071::1)  10.762 ms * *\n",
    "# 6  dfn.mx1.fra.de.geant.net (2001:798:14:10aa::9)  10.881 ms  10.644 ms  10.492 ms\n",
    "# 7  ae7.mx1.ams.nl.geant.net (2001:798:cc::19)  16.758 ms  16.595 ms  16.446 ms\n",
    "# 8  internet2-gw.mx1.ams.nl.geant.net (2001:798:99:1::2a)  111.152 ms  111.005 ms *\n",
    "# 9  fourhundredge-0-0-0-2.4079.core1.ashb.net.internet2.edu (2001:468:0:1::74)  166.537 ms  167.209 ms  166.795 ms\n",
    "#10  fourhundredge-0-0-0-16.4079.core2.ashb.net.internet2.edu (2001:468:0:1::3)  167.301 ms fourhundredge-0-0-0-18.4079.core2.ashb.net.internet2.edu (2001:468:0:1::6b)  167.122 ms fourhundredge-0-0-0-17.4079.core2.ashb.net.internet2.edu (2001:468:0:1::9)  166.943 ms\n",
    "#11  fourhundredge-0-0-0-1.4079.core2.clev.net.internet2.edu (2001:468:0:1::8b)  166.439 ms  166.259 ms fourhundredge-0-0-0-23.4079.core2.clev.net.internet2.edu (2001:468:0:1::193)  166.082 ms\n",
    "#12  fourhundredge-0-0-0-2.4079.core2.eqch.net.internet2.edu (2001:468:0:1::111)  167.631 ms  167.452 ms  167.275 ms\n",
    "#13  fourhundredge-0-0-0-17.4079.core1.eqch.net.internet2.edu (2001:468:0:1::40)  167.947 ms fourhundredge-0-0-0-2.4079.core2.chic.net.internet2.edu (2001:468:0:1::112)  166.519 ms fourhundredge-0-0-0-18.4079.core1.eqch.net.internet2.edu (2001:468:0:1::42)  167.564 ms\n",
    "#14  fourhundredge-0-0-0-1.4079.core1.chic.net.internet2.edu (2001:468:0:1::ce)  166.520 ms  166.388 ms fourhundredge-0-0-0-22.4079.core1.chic.net.internet2.edu (2001:468:0:1::60)  167.456 ms\n",
    "#15  fourhundredge-0-0-0-1.4079.core2.kans.net.internet2.edu (2001:468:0:1::11d)  167.196 ms  167.011 ms  166.830 ms\n",
    "#16  fourhundredge-0-0-0-1.4079.core2.denv.net.internet2.edu (2001:468:0:1::fa)  167.063 ms  166.883 ms  166.705 ms\n",
    "#17  fourhundredge-0-0-0-3.4079.core2.salt.net.internet2.edu (2001:468:0:1::a9)  167.973 ms  167.795 ms  167.617 ms\n",
    "#18  fourhundredge-0-0-0-8.4079.core1.losa.net.internet2.edu (2001:468:0:1::72)  165.542 ms * *\n",
    "#19  hpr-lax-agg10--i2.cenic.net (2607:f380:1::108:9a41:ac81)  164.806 ms  176.149 ms  175.724 ms\n",
    "#20  * * *\n",
    "#21  hpr-sdsc-100ge--sdg-hpr3.cenic.net (2607:f380:1::108:9a41:a2b1)  167.048 ms  166.858 ms  167.170 ms\n",
    "#22  2001:48d0:101:501::122 (2001:48d0:101:501::122)  167.055 ms  166.921 ms  167.033 ms\n",
    "\n",
    "# Use the following simplified output for plotting\n",
    "traceroute_output = \"\"\"\n",
    "2a00:4700:0:9::1  * * 1.663 ms\n",
    "2a00:4700:0:8::1  1.512 ms  1.363 ms  1.107 ms\n",
    "2a00:4700:0:1::3  1.458 ms  1.263 ms  1.056 ms\n",
    "* * *\n",
    "2001:638:c:c071::1  10.762 ms * *\n",
    "2001:798:14:10aa::9  10.881 ms  10.644 ms  10.492 ms\n",
    "2001:798:cc::19  16.758 ms  16.595 ms  16.446 ms\n",
    "2001:798:99:1::2a  111.152 ms  111.005 ms *\n",
    "2001:468:0:1::74  166.537 ms  167.209 ms  166.795 ms\n",
    "2001:468:0:1::3  167.301 ms 167.122 ms 166.943 ms\n",
    "2001:468:0:1::8b  166.439 ms  166.259 ms 166.082 ms\n",
    "2001:468:0:1::111  167.631 ms  167.452 ms  167.275 ms\n",
    "2001:468:0:1::40  167.947 ms 166.519 ms 167.564 ms\n",
    "2001:468:0:1::ce  166.520 ms  166.388 ms 167.456 ms\n",
    "2001:468:0:1::11d  167.196 ms  167.011 ms  166.830 ms\n",
    "2001:468:0:1::fa  167.063 ms  166.883 ms  166.705 ms\n",
    "2001:468:0:1::a9  167.973 ms  167.795 ms  167.617 ms\n",
    "2001:468:0:1::72  165.542 ms * *\n",
    "2607:f380:1::108:9a41:ac81  164.806 ms  176.149 ms  175.724 ms\n",
    "* * *\n",
    "2607:f380:1::108:9a41:a2b1  167.048 ms  166.858 ms  167.170 ms\n",
    "2001:48d0:101:501::122  167.055 ms  166.921 ms  167.033 ms\n",
    "\"\"\""
   ]
  },
  {
   "cell_type": "markdown",
   "metadata": {
    "editable": false,
    "scrolled": false
   },
   "source": [
    "<div style=\"background-color:rgba(100, 160, 200, 0.33);\">\n",
    "<p>\n",
    "<b>c) [0.25 credits]</b>\n",
    "What does the line * * * mean?\n",
    "</p>\n",
    "</div>"
   ]
  },
  {
   "cell_type": "markdown",
   "metadata": {
    "scrolled": false
   },
   "source": [
    "This means that the host located at the TTL did not reply with a TTL expired in transit packet or the packet got somehow lost in transit."
   ]
  },
  {
   "cell_type": "markdown",
   "metadata": {
    "editable": false,
    "scrolled": false
   },
   "source": [
    "<div style=\"background-color:rgba(100, 160, 200, 0.33);\">\n",
    "<p>\n",
    "<b>d) [0.75 credits]</b>\n",
    "Execute the traceroute command in the following cell from your VM.\n",
    "Compare these results to the given trace and explain what you find.\n",
    "</p>\n",
    "</div>"
   ]
  },
  {
   "cell_type": "code",
   "execution_count": 221,
   "metadata": {
    "scrolled": false
   },
   "outputs": [
    {
     "name": "stdout",
     "output_type": "stream",
     "text": [
      "traceroute to www.caida.org (192.172.226.122), 64 hops max, 52 byte packets\r\n",
      " 1  fritz.box (192.168.178.1)  1.362 ms  1.191 ms  1.267 ms\r\n",
      " 2  * * *\r\n",
      " 3  88.79.10.240 (88.79.10.240)  7.533 ms  7.378 ms\r\n",
      "    88.79.10.238 (88.79.10.238)  7.257 ms\r\n",
      " 4  188.111.216.100 (188.111.216.100)  7.300 ms\r\n",
      "    188.111.216.112 (188.111.216.112)  7.068 ms  6.911 ms\r\n",
      " 5  92.79.200.240 (92.79.200.240)  7.854 ms\r\n",
      "    92.79.215.18 (92.79.215.18)  8.038 ms\r\n",
      "    92.79.200.240 (92.79.200.240)  7.451 ms\r\n",
      " 6  145.254.2.181 (145.254.2.181)  6.659 ms\r\n",
      "    145.254.2.175 (145.254.2.175)  7.716 ms  7.441 ms\r\n",
      " 7  ae4-100-xcr1.mue.cw.net (195.2.5.13)  6.761 ms  6.689 ms  7.108 ms\r\n",
      " 8  ae10.pcr1.fis.cw.net (195.2.18.182)  95.326 ms  94.347 ms  94.680 ms\r\n",
      " 9  ae39-tcr1.pat.cw.net (195.2.16.230)  94.080 ms  94.504 ms  96.811 ms\r\n",
      "10  et-7-1-0-xcr1.nyh.cw.net (195.2.24.241)  92.098 ms  92.819 ms *\r\n",
      "11  ae30-xcr2.nyk.cw.net (195.2.16.134)  316.614 ms  94.318 ms  93.630 ms\r\n",
      "12  * * *\r\n",
      "13  ae2.3602.ear2.losangeles1.level3.net (4.69.207.45)  156.383 ms  154.154 ms  154.179 ms\r\n",
      "14  cenic.ear1.losangeles1.level3.net (4.35.156.66)  164.766 ms  158.455 ms  160.992 ms\r\n",
      "15  dc-lax-agg8--lax-agg10-300g.cenic.net (137.164.11.71)  156.724 ms  157.427 ms  156.210 ms\r\n",
      "16  dc-tus-agg8--lax-agg8-300g.cenic.net (137.164.11.83)  156.804 ms  157.778 ms  164.428 ms\r\n",
      "17  dc-sdg-agg4--tus-agg8-300g.cenic.net (137.164.11.85)  156.903 ms  612.935 ms  156.799 ms\r\n",
      "18  dc-sdsc-100ge--sdg-agg4.cenic.net (137.164.23.43)  155.810 ms  156.752 ms  156.786 ms\r\n",
      "19  medusa-mx960.sdsc.edu (192.12.207.46)  156.696 ms  156.236 ms  156.746 ms\r\n",
      "20  proxy.caida.org (192.172.226.122)  157.003 ms  156.463 ms  156.530 ms\r\n"
     ]
    }
   ],
   "source": [
    "!traceroute www.caida.org # just execute this cell to start a traceroute"
   ]
  },
  {
   "cell_type": "markdown",
   "metadata": {
    "scrolled": false
   },
   "source": [
    "The trace executed on the VM is using IPv4 instead of IPv6. The route taken is also slightly different, requiring 23 steps instead of 22 and also, other hops go unanswered. For example, hops 9 - 18 return * * * while the rest of the hops answer with an TTL expired in transit package. Apart from that, the route roughly seems to take a similar path, first going over servers of the dfn, then over the netherlands of geant.net servers and then crossing over the servers of cenic.net in the us."
   ]
  },
  {
   "cell_type": "markdown",
   "metadata": {
    "editable": false,
    "scrolled": false
   },
   "source": [
    "<div style=\"background-color:rgba(100, 160, 200, 0.33);\">\n",
    "<p>\n",
    "<b>e) [0.75 credits]</b>\n",
    "Plot the average RTT deltas between consecutive hops from the given traceroute output, e.g., $\\Delta RTT_{0\\rightarrow1} = RTT_1 − RTT_0$.\n",
    "</p>\n",
    "<p>\n",
    "<b>Hint:</b>\n",
    "Use the given csv reader to extract the numbers from the traceroute output.\n",
    "Graphs can be generated using the python library matplotlib. The differences in this subproblem can be nicely plotted with a <a href=\"https://pythonspot.com/en/matplotlib-bar-chart/\">bar chart</a>.\n",
    "</p>\n",
    "</div>"
   ]
  },
  {
   "cell_type": "code",
   "execution_count": 222,
   "metadata": {
    "scrolled": false
   },
   "outputs": [
    {
     "data": {
      "text/plain": "<Figure size 640x480 with 1 Axes>",
      "image/png": "[encoded data removed]"
     },
     "metadata": {},
     "output_type": "display_data"
    }
   ],
   "source": [
    "%matplotlib inline\n",
    "\n",
    "import numpy as np\n",
    "import matplotlib.pyplot as plt\n",
    "import csv\n",
    "\n",
    "# read data from traceroute\n",
    "reader = csv.reader(traceroute_output.splitlines(), delimiter=' ', skipinitialspace=True)\n",
    "\n",
    "# begin insert code\n",
    "# calculate rrts\n",
    "rtts = [[float(y) for y in x[1:] if y != \"ms\" and y != \"*\"] for x in reader]\n",
    "# filter empty lines\n",
    "rtts = [r for r in rtts if len(r)]\n",
    "# calculate rrt-deltas\n",
    "deltas = np.zeros(len(rtts) - 1)\n",
    "\n",
    "for i in range(len(deltas)):\n",
    "    deltas[i] = np.average(rtts[i + 1]) - np.average(rtts[i])\n",
    "\n",
    "plt.bar(np.arange(len(deltas)), deltas)\n",
    "plt.xticks(np.arange(len(deltas)));\n",
    "# end insert code"
   ]
  },
  {
   "cell_type": "markdown",
   "metadata": {
    "editable": false,
    "scrolled": false
   },
   "source": [
    "<div style=\"background-color:rgba(100, 160, 200, 0.33);\">\n",
    "<p>\n",
    "<b>f) [0.25 credits]</b>\n",
    "Try to find an explanation for the largest RTT difference calculated in the previous subproblem.\n",
    "</p>\n",
    "</div>"
   ]
  },
  {
   "cell_type": "markdown",
   "metadata": {
    "scrolled": false
   },
   "source": [
    "When looking at the ip addresses of the different hops that cause the largest deltas, using a geo location tool (in our case I was using https://www.iplocation.net/ip-lookup), we can see that the largest deltas happen between hops to servers in the netherlands and hops to servers in Illinois, US. This makes sense as this hope has to travel a really large distance."
   ]
  },
  {
   "cell_type": "markdown",
   "metadata": {
    "editable": false,
    "scrolled": false
   },
   "source": [
    "<div style=\"background-color:rgba(100, 160, 200, 0.33);\">\n",
    "<p>\n",
    "<b>g) [0.5 credits]</b>\n",
    "Explain why the RTT differences should be always positive in theory. \n",
    "Why does this assumption not always hold in practice?</p>\n",
    "</div>"
   ]
  },
  {
   "cell_type": "markdown",
   "metadata": {
    "scrolled": false
   },
   "source": [
    "For each hop, the distance the packet has to travel increases. This means as we are getting further along the path, the RTT of each packet should increase as well. In reality, this is not always the case as we are sending a new packet for each hop with an increase TTL. The packet could take a different path or the RTT could be affected by other influences, for example a router being busy and causing some delay before responding. Because of those delays, it might happen that the RTT difference is negative in some occurences."
   ]
  },
  {
   "cell_type": "markdown",
   "metadata": {
    "editable": false,
    "scrolled": false
   },
   "source": [
    "<div style=\"background-color:rgba(100, 160, 200, 0.33);\">\n",
    "<p>\n",
    "<b>h) [0.5 credits]</b>\n",
    "Try to find out different ways to determine the approximate geographical location of the hops in the given traceroute.\n",
    "</p>\n",
    "</div>"
   ]
  },
  {
   "cell_type": "markdown",
   "metadata": {
    "scrolled": false
   },
   "source": [
    "As we already saw in task f), we can use ip geo lookup to get the location (for example using https://www.iplocation.net/ip-lookup). Another method is looking at the domain of the hop, as it sometimes hints the geographical location (e.g. dfn.mx1.fra.**de**.geant.net for germany and ae7.mx1.ams.**nl**.geant.net for netherlands). Additionally, there are direct lookup tools for IPv6 addresses (for example http://www.ipgp.net/ipv6-address-locator/)."
   ]
  },
  {
   "cell_type": "markdown",
   "metadata": {
    "editable": false,
    "scrolled": false
   },
   "source": [
    "<div style=\"background-color:rgba(100, 160, 200, 0.33);\">\n",
    "<p>\n",
    "<b>i) [1 credit]</b>\n",
    "    Figure out the approximate location for as many hops as possible. Use at least <b>two</b> different methods to determine the location\n",
    "</p>\n",
    "</div>"
   ]
  },
  {
   "cell_type": "markdown",
   "metadata": {
    "scrolled": false
   },
   "source": [
    "* #1 Germany (http://www.ipgp.net/ipv6-address-locator/)\n",
    "* #2 Germany (http://www.ipgp.net/ipv6-address-locator/)\n",
    "* #3 Germany (http://www.ipgp.net/ipv6-address-locator/)\n",
    "* #4\n",
    "* #5 Germany (http://www.ipgp.net/ipv6-address-locator/)\n",
    "* #6 Netherlands (http://www.ipgp.net/ipv6-address-locator/)\n",
    "* #7 Netherlands (http://www.ipgp.net/ipv6-address-locator/)\n",
    "* #8 Netherlands (http://www.ipgp.net/ipv6-address-locator/)\n",
    "* #9 United States (http://www.ipgp.net/ipv6-address-locator/)\n",
    "* #10 United States (http://www.ipgp.net/ipv6-address-locator/)\n",
    "* #11 United States (http://www.ipgp.net/ipv6-address-locator/)\n",
    "* #12 United States (http://www.ipgp.net/ipv6-address-locator/)\n",
    "* #13 United States (http://www.ipgp.net/ipv6-address-locator/)\n",
    "* #14 United States (http://www.ipgp.net/ipv6-address-locator/)\n",
    "* #15 United States (http://www.ipgp.net/ipv6-address-locator/)\n",
    "* #16 United States (http://www.ipgp.net/ipv6-address-locator/)\n",
    "* #17 United States (http://www.ipgp.net/ipv6-address-locator/)\n",
    "* #18 United States (http://www.ipgp.net/ipv6-address-locator/)\n",
    "* #19 United States (http://www.ipgp.net/ipv6-address-locator/)\n",
    "* #20\n",
    "* #21 United States (http://www.ipgp.net/ipv6-address-locator/)\n",
    "* #22 United States (http://www.ipgp.net/ipv6-address-locator/)"
   ]
  },
  {
   "cell_type": "markdown",
   "metadata": {
    "editable": false,
    "scrolled": false,
    "pycharm": {
     "name": "#%% md\n"
    }
   },
   "source": [
    "<div style=\"background-color:rgba(100, 160, 200, 0.33);\">\n",
    "<p><b>Advanced Computer Networking by Prof. Dr.-Ing. Georg Carle</b></p>\n",
    "<p>Teaching assistants: Sebastian Gallenmüller, Benedikt Jaeger, Max Helm, Patrick Sattler, Johannes Zirngibl</p>\n",
    "</div>"
   ]
  }
 ],
 "metadata": {
  "kernelspec": {
   "display_name": "Python 3",
   "language": "python",
   "name": "python3"
  },
  "language_info": {
   "codemirror_mode": {
    "name": "ipython",
    "version": 3
   },
   "file_extension": ".py",
   "mimetype": "text/x-python",
   "name": "python",
   "nbconvert_exporter": "python",
   "pygments_lexer": "ipython3",
   "version": "3.9.2"
  }
 },
 "nbformat": 4,
 "nbformat_minor": 2
}